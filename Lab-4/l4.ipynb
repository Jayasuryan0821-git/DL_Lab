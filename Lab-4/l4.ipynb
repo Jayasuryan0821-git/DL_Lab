{
  "nbformat": 4,
  "nbformat_minor": 0,
  "metadata": {
    "colab": {
      "provenance": [],
      "gpuType": "T4",
      "authorship_tag": "ABX9TyO1ueQjHhbHlq0tNP7gavMs",
      "include_colab_link": true
    },
    "kernelspec": {
      "name": "python3",
      "display_name": "Python 3"
    },
    "language_info": {
      "name": "python"
    },
    "accelerator": "GPU"
  },
  "cells": [
    {
      "cell_type": "markdown",
      "metadata": {
        "id": "view-in-github",
        "colab_type": "text"
      },
      "source": [
        "<a href=\"https://colab.research.google.com/github/dev0419/DL_Lab/blob/main/l4.ipynb\" target=\"_parent\"><img src=\"https://colab.research.google.com/assets/colab-badge.svg\" alt=\"Open In Colab\"/></a>"
      ]
    },
    {
      "cell_type": "code",
      "execution_count": 32,
      "metadata": {
        "colab": {
          "base_uri": "https://localhost:8080/"
        },
        "id": "nn3Ttc3mKmtN",
        "outputId": "0a17be8d-8759-47b3-f02a-fe411ae34dc2"
      },
      "outputs": [
        {
          "output_type": "stream",
          "name": "stdout",
          "text": [
            "Looking in indexes: https://download.pytorch.org/whl/cu118\n",
            "Requirement already satisfied: torch in /usr/local/lib/python3.10/dist-packages (2.1.0+cu121)\n",
            "Requirement already satisfied: torchvision in /usr/local/lib/python3.10/dist-packages (0.16.0+cu121)\n",
            "Requirement already satisfied: torchaudio in /usr/local/lib/python3.10/dist-packages (2.1.0+cu121)\n",
            "Requirement already satisfied: filelock in /usr/local/lib/python3.10/dist-packages (from torch) (3.13.1)\n",
            "Requirement already satisfied: typing-extensions in /usr/local/lib/python3.10/dist-packages (from torch) (4.5.0)\n",
            "Requirement already satisfied: sympy in /usr/local/lib/python3.10/dist-packages (from torch) (1.12)\n",
            "Requirement already satisfied: networkx in /usr/local/lib/python3.10/dist-packages (from torch) (3.2.1)\n",
            "Requirement already satisfied: jinja2 in /usr/local/lib/python3.10/dist-packages (from torch) (3.1.3)\n",
            "Requirement already satisfied: fsspec in /usr/local/lib/python3.10/dist-packages (from torch) (2023.6.0)\n",
            "Requirement already satisfied: triton==2.1.0 in /usr/local/lib/python3.10/dist-packages (from torch) (2.1.0)\n",
            "Requirement already satisfied: numpy in /usr/local/lib/python3.10/dist-packages (from torchvision) (1.23.5)\n",
            "Requirement already satisfied: requests in /usr/local/lib/python3.10/dist-packages (from torchvision) (2.31.0)\n",
            "Requirement already satisfied: pillow!=8.3.*,>=5.3.0 in /usr/local/lib/python3.10/dist-packages (from torchvision) (9.4.0)\n",
            "Requirement already satisfied: MarkupSafe>=2.0 in /usr/local/lib/python3.10/dist-packages (from jinja2->torch) (2.1.4)\n",
            "Requirement already satisfied: charset-normalizer<4,>=2 in /usr/local/lib/python3.10/dist-packages (from requests->torchvision) (3.3.2)\n",
            "Requirement already satisfied: idna<4,>=2.5 in /usr/local/lib/python3.10/dist-packages (from requests->torchvision) (3.6)\n",
            "Requirement already satisfied: urllib3<3,>=1.21.1 in /usr/local/lib/python3.10/dist-packages (from requests->torchvision) (2.0.7)\n",
            "Requirement already satisfied: certifi>=2017.4.17 in /usr/local/lib/python3.10/dist-packages (from requests->torchvision) (2023.11.17)\n",
            "Requirement already satisfied: mpmath>=0.19 in /usr/local/lib/python3.10/dist-packages (from sympy->torch) (1.3.0)\n"
          ]
        }
      ],
      "source": [
        "!pip3 install torch torchvision torchaudio --index-url https://download.pytorch.org/whl/cu118"
      ]
    },
    {
      "cell_type": "code",
      "source": [
        "#Q1\n",
        "import torch\n",
        "from torch import nn\n",
        "from torch.utils.data import Dataset,DataLoader\n",
        "import matplotlib.pyplot as plt\n",
        "X = torch.tensor([[0,0],[0,1],[1,0],[1,1]],dtype=torch.float32)\n",
        "y = torch.tensor([0,1,1,0],dtype=torch.float32)\n",
        "\n",
        "class XOR(nn.Module):\n",
        "    def __init__(self):\n",
        "        super().__init__()\n",
        "        self.linear1 = nn.Linear(2,2,bias=True)\n",
        "        self.activation1 = nn.Sigmoid()\n",
        "        self.linear2 = nn.Linear(2,1,bias=True)\n",
        "        #self.activation2 = nn.ReLU()\n",
        "\n",
        "    def forward(self,x):\n",
        "        return self.linear2(self.activation1(self.linear1(x)))\n",
        "\n",
        "class MyDataset(Dataset):\n",
        "    def __init__(self,X,y):\n",
        "        self.X = X\n",
        "        self.y = y\n",
        "\n",
        "    def __len__(self):\n",
        "        return len(self.X)\n",
        "\n",
        "    def __getitem__(self, index):\n",
        "        return self.X[index],self.y[index]\n",
        "\n",
        "dataset = MyDataset(X,y)\n",
        "batch_size = 1\n",
        "dataloader = DataLoader(dataset,batch_size=1,shuffle=True)\n",
        "device = torch.device(\"cuda\" if torch.cuda.is_available() else \"cpu\")\n",
        "model = XOR().to(device)\n",
        "print(model)\n",
        "loss_fn = nn.MSELoss()\n",
        "optimizer = torch.optim.SGD(params=model.parameters(),lr=0.5)\n",
        "epochs = 1000\n",
        "loss_list = []\n",
        "\n",
        "def train_one_epoch(epoch_index):\n",
        "    total_loss = 0.\n",
        "    for batch in dataloader:\n",
        "        X_batch,y_batch = batch\n",
        "        X_batch, y_batch = X_batch.to(device), y_batch.to(device)\n",
        "        optimizer.zero_grad()\n",
        "        y_pred = model(X_batch)\n",
        "        loss = loss_fn(y_pred.flatten(),y_batch)\n",
        "        loss.backward()\n",
        "        optimizer.step()\n",
        "        total_loss += loss.item()\n",
        "    return total_loss/(len(dataloader)*batch_size)\n",
        "\n",
        "for epoch in range(epochs):\n",
        "    model.train()\n",
        "    avg_loss = train_one_epoch(epoch)\n",
        "    loss_list.append(avg_loss)\n",
        "    if epoch % 100 == 0:\n",
        "        print(f\"Epoch {epoch}/{epochs} loss:{avg_loss}\")\n",
        "\n",
        "for params in model.named_parameters():\n",
        "    print(params)\n",
        "inp = torch.tensor([[0,0],[0,1],[1,0],[1,1]],dtype=torch.float32).to(device)\n",
        "model.eval()\n",
        "output = model(inp)\n",
        "print(f\"Prediction for {inp} is {output}\")\n",
        "plt.plot(range(epochs),loss_list)\n"
      ],
      "metadata": {
        "colab": {
          "base_uri": "https://localhost:8080/",
          "height": 986
        },
        "id": "LHldA0LZK5Rl",
        "outputId": "ec45816c-3d80-41e9-a435-70986f05af2a"
      },
      "execution_count": 33,
      "outputs": [
        {
          "output_type": "stream",
          "name": "stdout",
          "text": [
            "XOR(\n",
            "  (linear1): Linear(in_features=2, out_features=2, bias=True)\n",
            "  (activation1): Sigmoid()\n",
            "  (linear2): Linear(in_features=2, out_features=1, bias=True)\n",
            ")\n",
            "Epoch 0/1000 loss:1.3603326454758644\n",
            "Epoch 100/1000 loss:0.42188702772546094\n",
            "Epoch 200/1000 loss:0.2992311706766486\n",
            "Epoch 300/1000 loss:0.14428502693772316\n",
            "Epoch 400/1000 loss:0.20177366421557963\n",
            "Epoch 500/1000 loss:0.005498218673892552\n",
            "Epoch 600/1000 loss:0.0002983794739748191\n",
            "Epoch 700/1000 loss:2.9372678733707858e-09\n",
            "Epoch 800/1000 loss:3.5982328228101323e-13\n",
            "Epoch 900/1000 loss:1.381839087599701e-12\n",
            "('linear1.weight', Parameter containing:\n",
            "tensor([[-5.4547, -5.6857],\n",
            "        [-2.5240, -2.5344]], device='cuda:0', requires_grad=True))\n",
            "('linear1.bias', Parameter containing:\n",
            "tensor([0.9278, 2.6633], device='cuda:0', requires_grad=True))\n",
            "('linear2.weight', Parameter containing:\n",
            "tensor([[-2.7088,  2.2802]], device='cuda:0', requires_grad=True))\n",
            "('linear2.bias', Parameter containing:\n",
            "tensor([-0.1904], device='cuda:0', requires_grad=True))\n",
            "Prediction for tensor([[0., 0.],\n",
            "        [0., 1.],\n",
            "        [1., 0.],\n",
            "        [1., 1.]], device='cuda:0') is tensor([[-8.9407e-08],\n",
            "        [ 1.0000e+00],\n",
            "        [ 1.0000e+00],\n",
            "        [-4.1723e-07]], device='cuda:0', grad_fn=<AddmmBackward0>)\n"
          ]
        },
        {
          "output_type": "execute_result",
          "data": {
            "text/plain": [
              "[<matplotlib.lines.Line2D at 0x7a8ea7da8160>]"
            ]
          },
          "metadata": {},
          "execution_count": 33
        },
        {
          "output_type": "display_data",
          "data": {
            "text/plain": [
              "<Figure size 640x480 with 1 Axes>"
            ],
            "image/png": "[encoded data removed]"
          },
          "metadata": {}
        }
      ]
    },
    {
      "cell_type": "code",
      "source": [
        "#Q2\n",
        "import torch\n",
        "import matplotlib.pyplot as plt\n",
        "import numpy as np\n",
        "from torch import nn\n",
        "from torch.utils.data import Dataset, DataLoader\n",
        "\n",
        "loss_list = []\n",
        "torch.manual_seed(42)\n",
        "X = torch.tensor([[0,0],[0,1],[1,0],[1,1]], dtype=torch.float32)\n",
        "Y = torch.tensor([0,1,1,0], dtype=torch.float32)\n",
        "\n",
        "class XORModel(nn.Module):\n",
        "    def __init__(self):\n",
        "        super().__init__()\n",
        "        self.linear1 = nn.Linear(in_features=2, out_features=2, bias=True)\n",
        "        self.activation1 = nn.ReLU()\n",
        "        self.linear2 = nn.Linear(in_features=2, out_features=1, bias=True)\n",
        "        self.activation2 = nn.ReLU()\n",
        "\n",
        "    def forward(self, x):\n",
        "        x = self.linear1(x)\n",
        "        x = self.activation1(x)\n",
        "        x = self.linear2(x)\n",
        "        x = self.activation2(x)\n",
        "        return x\n",
        "\n",
        "class MyDataset(Dataset):\n",
        "    def __init__(self, X, Y):\n",
        "        self.X = X\n",
        "        self.Y = Y\n",
        "\n",
        "    def __len__(self):\n",
        "        return len(self.X)\n",
        "\n",
        "    def __getitem__(self, idx):\n",
        "        return self.X[idx], self.Y[idx]\n",
        "\n",
        "dataset = MyDataset(X, Y)\n",
        "batch_size = 1\n",
        "train_data_loader = DataLoader(dataset, batch_size=batch_size, shuffle=True)\n",
        "device = torch.device(\"cuda\" if torch.cuda.is_available() else \"cpu\")  # Check and set device\n",
        "model = XORModel().to(device)\n",
        "print(model)\n",
        "\n",
        "loss_fn = nn.MSELoss()\n",
        "optimizer = torch.optim.SGD(model.parameters(), 0.1)\n",
        "\n",
        "def train_one_epoch(epoch_index):\n",
        "    total_loss = 0\n",
        "    for i, data in enumerate(train_data_loader):\n",
        "        inputs, labels = data\n",
        "        inputs, labels = inputs.to(device), labels.to(device)  # Move data to device\n",
        "        optimizer.zero_grad()\n",
        "        outputs = model(inputs)\n",
        "        loss = loss_fn(outputs.flatten(), labels)\n",
        "        loss.backward()\n",
        "        optimizer.step()\n",
        "        total_loss += loss.item()\n",
        "    return total_loss / (len(train_data_loader) * batch_size)\n",
        "\n",
        "epochs = 1000\n",
        "for epoch in range(epochs):\n",
        "    model.train()\n",
        "    avg_loss = train_one_epoch(epoch)\n",
        "    loss_list.append(avg_loss)\n",
        "\n",
        "    if epoch % 100 == 0:\n",
        "        print(f\"{epoch}/{epochs}, loss: {avg_loss}\")\n",
        "\n",
        "for param in model.named_parameters():\n",
        "    print(param)\n",
        "\n",
        "input = torch.tensor([[[0,0],[0,1],[1,0],[1,1]]],dtype=torch.float32).to(device)\n",
        "model.eval()\n",
        "print(f\"Output for {input}: {model(input)}\")\n",
        "plt.plot(loss_list)\n"
      ],
      "metadata": {
        "colab": {
          "base_uri": "https://localhost:8080/",
          "height": 1000
        },
        "id": "wyJbWO4sfNnI",
        "outputId": "582e3853-ec98-46ad-caab-0fdb8de6275e"
      },
      "execution_count": 37,
      "outputs": [
        {
          "output_type": "stream",
          "name": "stdout",
          "text": [
            "XORModel(\n",
            "  (linear1): Linear(in_features=2, out_features=2, bias=True)\n",
            "  (activation1): ReLU()\n",
            "  (linear2): Linear(in_features=2, out_features=1, bias=True)\n",
            "  (activation2): ReLU()\n",
            ")\n",
            "0/1000, loss: 0.3565910141915083\n",
            "100/1000, loss: 0.15378627902828157\n",
            "200/1000, loss: 0.15643179649487138\n",
            "300/1000, loss: 0.15653943922370672\n",
            "400/1000, loss: 0.15470720524899662\n",
            "500/1000, loss: 0.15159197412867798\n",
            "600/1000, loss: 0.15319393227400724\n",
            "700/1000, loss: 0.15423225541599095\n",
            "800/1000, loss: 0.14921619603410363\n",
            "900/1000, loss: 0.15354166291945148\n",
            "('linear1.weight', Parameter containing:\n",
            "tensor([[ 0.6960,  0.7723],\n",
            "        [-0.7286,  0.7380]], device='cuda:0', requires_grad=True))\n",
            "('linear1.bias', Parameter containing:\n",
            "tensor([-0.7850, -0.0665], device='cuda:0', requires_grad=True))\n",
            "('linear2.weight', Parameter containing:\n",
            "tensor([[-0.9195,  0.7331]], device='cuda:0', requires_grad=True))\n",
            "('linear2.bias', Parameter containing:\n",
            "tensor([0.4975], device='cuda:0', requires_grad=True))\n",
            "Output for tensor([[[0., 0.],\n",
            "         [0., 1.],\n",
            "         [1., 0.],\n",
            "         [1., 1.]]], device='cuda:0'): tensor([[[0.4975],\n",
            "         [0.9898],\n",
            "         [0.4975],\n",
            "         [0.0000]]], device='cuda:0', grad_fn=<ReluBackward0>)\n"
          ]
        },
        {
          "output_type": "execute_result",
          "data": {
            "text/plain": [
              "[<matplotlib.lines.Line2D at 0x7a8ea7f2ef20>]"
            ]
          },
          "metadata": {},
          "execution_count": 37
        },
        {
          "output_type": "display_data",
          "data": {
            "text/plain": [
              "<Figure size 640x480 with 1 Axes>"
            ],
            "image/png": "[encoded data removed]"
          },
          "metadata": {}
        }
      ]
    },
    {
      "cell_type": "code",
      "source": [
        "#Q3\n",
        "import torch\n",
        "import matplotlib.pyplot as plt\n",
        "import numpy as np\n",
        "from torch import nn\n",
        "\n",
        "weight1 = torch.tensor([[1.0, -1.0], [2.0, -2.0]], dtype=torch.float32)\n",
        "bias1 = torch.tensor([0.5, -0.5], dtype=torch.float32)\n",
        "weight2 = torch.tensor([[1.0], [-1.0]], dtype=torch.float32)\n",
        "bias2 = torch.tensor([0.5], dtype=torch.float32)\n",
        "\n",
        "\n",
        "class XORModel(nn.Module):\n",
        "    def __init__(self):\n",
        "        super().__init__()\n",
        "        self.linear1 = nn.Linear(in_features=2, out_features=2, bias=True)\n",
        "        self.linear1.weight.data = weight1\n",
        "        self.linear1.bias.data = bias1\n",
        "        self.activation1 = nn.Sigmoid()\n",
        "        self.linear2 = nn.Linear(in_features=2, out_features=1, bias=True)\n",
        "        self.linear2.weight.data = weight2\n",
        "        self.linear2.bias.data = bias2\n",
        "\n",
        "    def forward(self, x):\n",
        "        x = self.linear1(x)\n",
        "        x = self.activation1(x)\n",
        "        x = self.linear2(x)\n",
        "        return x\n",
        "\n",
        "\n",
        "X = torch.tensor([[0, 1]], dtype=torch.float32)\n",
        "linear1_output = torch.matmul(X, weight1.t()) + bias1\n",
        "activation_output = torch.sigmoid(linear1_output)\n",
        "final_output = torch.matmul(activation_output, weight2) + bias2  # No need to transpose weight2\n",
        "print(f\"Manually computed output for {X}: {final_output}\")\n",
        "plt.plot(loss_list)\n",
        "plt.show()\n"
      ],
      "metadata": {
        "colab": {
          "base_uri": "https://localhost:8080/",
          "height": 447
        },
        "id": "SfJHiFvphMSw",
        "outputId": "68d0d8ca-1add-44e1-c843-efebbadc7b66"
      },
      "execution_count": 35,
      "outputs": [
        {
          "output_type": "stream",
          "name": "stdout",
          "text": [
            "Manually computed output for tensor([[0., 1.]]): tensor([[0.8017]])\n"
          ]
        },
        {
          "output_type": "display_data",
          "data": {
            "text/plain": [
              "<Figure size 640x480 with 1 Axes>"
            ],
            "image/png": "[encoded data removed]"
          },
          "metadata": {}
        }
      ]
    },
    {
      "cell_type": "code",
      "source": [
        "import torch\n",
        "import torch.nn as nn\n",
        "import torch.optim as optim\n",
        "import torchvision\n",
        "import torchvision.transforms as transforms\n",
        "from sklearn.metrics import confusion_matrix\n",
        "import numpy as np\n",
        "import matplotlib.pyplot as plt\n",
        "\n",
        "# Define transforms to normalize the data\n",
        "transform = transforms.Compose([\n",
        "    transforms.ToTensor(),  # Convert PIL image to tensor\n",
        "    transforms.Normalize((0.5,), (0.5,))  # Normalize the tensor to range [-1, 1]\n",
        "])\n",
        "\n",
        "# Download MNIST dataset and create data loaders\n",
        "trainset = torchvision.datasets.MNIST(root='./data', train=True, download=True, transform=transform)\n",
        "testset = torchvision.datasets.MNIST(root='./data', train=False, download=True, transform=transform)\n",
        "trainloader = torch.utils.data.DataLoader(trainset, batch_size=64, shuffle=True)\n",
        "testloader = torch.utils.data.DataLoader(testset, batch_size=64, shuffle=False)\n",
        "\n",
        "# Define neural network model\n",
        "class FFNN(nn.Module):\n",
        "    def __init__(self, input_size, hidden_size1, hidden_size2, num_classes):\n",
        "        super(FFNN, self).__init__()\n",
        "        self.fc1 = nn.Linear(input_size, hidden_size1)\n",
        "        self.fc2 = nn.Linear(hidden_size1, hidden_size2)\n",
        "        self.fc3 = nn.Linear(hidden_size2, num_classes)\n",
        "\n",
        "    def forward(self, x):\n",
        "        x = torch.flatten(x, 1)  # Flatten the input tensor\n",
        "        x = torch.relu(self.fc1(x))\n",
        "        x = torch.relu(self.fc2(x))\n",
        "        x = self.fc3(x)\n",
        "        return x\n",
        "\n",
        "# Initialize the model\n",
        "input_size = 28 * 28  # Size of MNIST images\n",
        "hidden_size1 = 128\n",
        "hidden_size2 = 64\n",
        "num_classes = 10  # Digits 0-9\n",
        "model = FFNN(input_size, hidden_size1, hidden_size2, num_classes)\n",
        "\n",
        "# Count the number of learnable parameters\n",
        "num_params = sum(p.numel() for p in model.parameters() if p.requires_grad)\n",
        "print(\"Number of learnable parameters:\", num_params)\n",
        "\n",
        "# Define loss function and optimizer\n",
        "criterion = nn.CrossEntropyLoss()\n",
        "optimizer = optim.Adam(model.parameters(), lr=0.001)\n",
        "\n",
        "# Train the model\n",
        "num_epochs = 5\n",
        "for epoch in range(num_epochs):\n",
        "    model.train()\n",
        "    running_loss = 0.0\n",
        "    for images, labels in trainloader:\n",
        "        # Forward pass\n",
        "        outputs = model(images)\n",
        "        loss = criterion(outputs, labels)\n",
        "\n",
        "        # Backward pass and optimization\n",
        "        optimizer.zero_grad()\n",
        "        loss.backward()\n",
        "        optimizer.step()\n",
        "\n",
        "        running_loss += loss.item()\n",
        "    print(f\"Epoch [{epoch+1}/{num_epochs}], Loss: {running_loss / len(trainloader)}\")\n",
        "\n",
        "# Evaluate the model\n",
        "model.eval()\n",
        "correct = 0\n",
        "total = 0\n",
        "predicted_labels = []\n",
        "true_labels = []\n",
        "with torch.no_grad():\n",
        "    for images, labels in testloader:\n",
        "        outputs = model(images)\n",
        "        _, predicted = torch.max(outputs.data, 1)\n",
        "        correct += (predicted == labels).sum().item()\n",
        "        total += labels.size(0)\n",
        "        predicted_labels.extend(predicted.numpy())\n",
        "        true_labels.extend(labels.numpy())\n",
        "\n",
        "print(f\"Accuracy on test set: {100 * correct / total:.2f}%\")\n",
        "\n",
        "# Plot confusion matrix\n",
        "cm = confusion_matrix(true_labels, predicted_labels)\n",
        "plt.imshow(cm, interpolation='nearest', cmap=plt.cm.Blues)\n",
        "plt.title('Confusion matrix')\n",
        "plt.colorbar()\n",
        "tick_marks = np.arange(num_classes)\n",
        "plt.xticks(tick_marks, np.arange(num_classes))\n",
        "plt.yticks(tick_marks, np.arange(num_classes))\n",
        "plt.xlabel('Predicted Label')\n",
        "plt.ylabel('True Label')\n",
        "plt.show()\n"
      ],
      "metadata": {
        "colab": {
          "base_uri": "https://localhost:8080/",
          "height": 941
        },
        "id": "5M5rfAmhm_gN",
        "outputId": "d82909bc-d643-44ef-c95f-10828a771f69"
      },
      "execution_count": 31,
      "outputs": [
        {
          "output_type": "stream",
          "name": "stdout",
          "text": [
            "Downloading http://yann.lecun.com/exdb/mnist/train-images-idx3-ubyte.gz\n",
            "Downloading http://yann.lecun.com/exdb/mnist/train-images-idx3-ubyte.gz to ./data/MNIST/raw/train-images-idx3-ubyte.gz\n"
          ]
        },
        {
          "output_type": "stream",
          "name": "stderr",
          "text": [
            "100%|██████████| 9912422/9912422 [00:00<00:00, 91240033.98it/s]\n"
          ]
        },
        {
          "output_type": "stream",
          "name": "stdout",
          "text": [
            "Extracting ./data/MNIST/raw/train-images-idx3-ubyte.gz to ./data/MNIST/raw\n",
            "\n",
            "Downloading http://yann.lecun.com/exdb/mnist/train-labels-idx1-ubyte.gz\n",
            "Downloading http://yann.lecun.com/exdb/mnist/train-labels-idx1-ubyte.gz to ./data/MNIST/raw/train-labels-idx1-ubyte.gz\n"
          ]
        },
        {
          "output_type": "stream",
          "name": "stderr",
          "text": [
            "100%|██████████| 28881/28881 [00:00<00:00, 109229660.80it/s]"
          ]
        },
        {
          "output_type": "stream",
          "name": "stdout",
          "text": [
            "Extracting ./data/MNIST/raw/train-labels-idx1-ubyte.gz to ./data/MNIST/raw\n",
            "\n",
            "Downloading http://yann.lecun.com/exdb/mnist/t10k-images-idx3-ubyte.gz\n",
            "Downloading http://yann.lecun.com/exdb/mnist/t10k-images-idx3-ubyte.gz to ./data/MNIST/raw/t10k-images-idx3-ubyte.gz\n"
          ]
        },
        {
          "output_type": "stream",
          "name": "stderr",
          "text": [
            "\n",
            "100%|██████████| 1648877/1648877 [00:00<00:00, 34765801.68it/s]\n"
          ]
        },
        {
          "output_type": "stream",
          "name": "stdout",
          "text": [
            "Extracting ./data/MNIST/raw/t10k-images-idx3-ubyte.gz to ./data/MNIST/raw\n",
            "\n",
            "Downloading http://yann.lecun.com/exdb/mnist/t10k-labels-idx1-ubyte.gz\n",
            "Downloading http://yann.lecun.com/exdb/mnist/t10k-labels-idx1-ubyte.gz to ./data/MNIST/raw/t10k-labels-idx1-ubyte.gz\n"
          ]
        },
        {
          "output_type": "stream",
          "name": "stderr",
          "text": [
            "100%|██████████| 4542/4542 [00:00<00:00, 18676988.99it/s]"
          ]
        },
        {
          "output_type": "stream",
          "name": "stdout",
          "text": [
            "Extracting ./data/MNIST/raw/t10k-labels-idx1-ubyte.gz to ./data/MNIST/raw\n",
            "\n"
          ]
        },
        {
          "output_type": "stream",
          "name": "stderr",
          "text": [
            "\n"
          ]
        },
        {
          "output_type": "stream",
          "name": "stdout",
          "text": [
            "Number of learnable parameters: 109386\n",
            "Epoch [1/5], Loss: 0.392206146995396\n",
            "Epoch [2/5], Loss: 0.18875217907972683\n",
            "Epoch [3/5], Loss: 0.13297088706155002\n",
            "Epoch [4/5], Loss: 0.10845871042730267\n",
            "Epoch [5/5], Loss: 0.09445574728778001\n",
            "Accuracy on test set: 97.31%\n"
          ]
        },
        {
          "output_type": "display_data",
          "data": {
            "text/plain": [
              "<Figure size 640x480 with 2 Axes>"
            ],
            "image/png": "[encoded data removed]"
          },
          "metadata": {}
        }
      ]
    }
  ]
}