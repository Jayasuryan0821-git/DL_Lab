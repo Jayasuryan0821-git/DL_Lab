{
 "cells": [
  {
   "cell_type": "markdown",
   "metadata": {},
   "source": [
    "L2 and L1 regularization "
   ]
  },
  {
   "cell_type": "code",
   "execution_count": 1,
   "metadata": {},
   "outputs": [],
   "source": [
    "import torch\n",
    "from torch import nn\n",
    "import torchvision\n",
    "from torchvision import datasets,transforms\n",
    "from torchvision.datasets import ImageFolder\n",
    "from torchvision.transforms import ToTensor\n",
    "from torchvision.models import alexnet,AlexNet_Weights\n",
    "from torch.utils.data import Dataset,DataLoader,default_collate\n"
   ]
  },
  {
   "cell_type": "code",
   "execution_count": 2,
   "metadata": {},
   "outputs": [
    {
     "data": {
      "text/plain": [
       "AlexNet_Weights.IMAGENET1K_V1"
      ]
     },
     "execution_count": 2,
     "metadata": {},
     "output_type": "execute_result"
    }
   ],
   "source": [
    "weights = AlexNet_Weights.DEFAULT\n",
    "weights\n"
   ]
  },
  {
   "cell_type": "code",
   "execution_count": 3,
   "metadata": {},
   "outputs": [],
   "source": [
    "def custom_collate(batch):\n",
    "    max_height = max(sample[0].shape[1] for sample in batch)\n",
    "    max_width = max(sample[0].shape[2] for sample in batch)\n",
    "\n",
    "    padded_batch = []\n",
    "    for sample in batch:\n",
    "        input_data, target = sample\n",
    "        pad_height = max_height - input_data.shape[1]\n",
    "        pad_width = max_width - input_data.shape[2]\n",
    "        padded_input_data = torch.nn.functional.pad(input_data, (0, pad_width, 0, pad_height))\n",
    "        padded_batch.append((padded_input_data, target))\n",
    "\n",
    "    return default_collate(padded_batch)\n"
   ]
  },
  {
   "cell_type": "code",
   "execution_count": 4,
   "metadata": {},
   "outputs": [
    {
     "name": "stdout",
     "output_type": "stream",
     "text": [
      "Number of classes:2\n"
     ]
    }
   ],
   "source": [
    "train_dataset = ImageFolder(root=r'C:\\Users\\rsurs\\OneDrive\\Documents\\University_Study Material\\3rd year\\6th sem\\DL_lab\\RNN\\CNN\\cats_and_dogs_filtered\\cats_and_dogs_filtered\\train',transform=ToTensor(),target_transform=None)\n",
    "test_dataset = ImageFolder(root=r'C:\\Users\\rsurs\\OneDrive\\Documents\\University_Study Material\\3rd year\\6th sem\\DL_lab\\RNN\\CNN\\cats_and_dogs_filtered\\cats_and_dogs_filtered\\validation',transform=ToTensor())\n",
    "train_loader = DataLoader(dataset = train_dataset,batch_size = 32,shuffle=True,collate_fn=custom_collate)\n",
    "test_loader = DataLoader(dataset = test_dataset,batch_size = 32,collate_fn=custom_collate)\n",
    "class_names = train_dataset.classes\n",
    "print(f\"Number of classes:{len(class_names)}\")\n"
   ]
  },
  {
   "cell_type": "code",
   "execution_count": 5,
   "metadata": {},
   "outputs": [
    {
     "data": {
      "text/plain": [
       "'cuda'"
      ]
     },
     "execution_count": 5,
     "metadata": {},
     "output_type": "execute_result"
    }
   ],
   "source": [
    "device = \"cuda\" if torch.cuda.is_available() else \"cpu\"\n",
    "device\n"
   ]
  },
  {
   "cell_type": "code",
   "execution_count": 6,
   "metadata": {},
   "outputs": [
    {
     "data": {
      "text/plain": [
       "AlexNet(\n",
       "  (features): Sequential(\n",
       "    (0): Conv2d(3, 64, kernel_size=(11, 11), stride=(4, 4), padding=(2, 2))\n",
       "    (1): ReLU(inplace=True)\n",
       "    (2): MaxPool2d(kernel_size=3, stride=2, padding=0, dilation=1, ceil_mode=False)\n",
       "    (3): Conv2d(64, 192, kernel_size=(5, 5), stride=(1, 1), padding=(2, 2))\n",
       "    (4): ReLU(inplace=True)\n",
       "    (5): MaxPool2d(kernel_size=3, stride=2, padding=0, dilation=1, ceil_mode=False)\n",
       "    (6): Conv2d(192, 384, kernel_size=(3, 3), stride=(1, 1), padding=(1, 1))\n",
       "    (7): ReLU(inplace=True)\n",
       "    (8): Conv2d(384, 256, kernel_size=(3, 3), stride=(1, 1), padding=(1, 1))\n",
       "    (9): ReLU(inplace=True)\n",
       "    (10): Conv2d(256, 256, kernel_size=(3, 3), stride=(1, 1), padding=(1, 1))\n",
       "    (11): ReLU(inplace=True)\n",
       "    (12): MaxPool2d(kernel_size=3, stride=2, padding=0, dilation=1, ceil_mode=False)\n",
       "  )\n",
       "  (avgpool): AdaptiveAvgPool2d(output_size=(6, 6))\n",
       "  (classifier): Sequential(\n",
       "    (0): Dropout(p=0.5, inplace=False)\n",
       "    (1): Linear(in_features=9216, out_features=4096, bias=True)\n",
       "    (2): ReLU(inplace=True)\n",
       "    (3): Dropout(p=0.5, inplace=False)\n",
       "    (4): Linear(in_features=4096, out_features=4096, bias=True)\n",
       "    (5): ReLU(inplace=True)\n",
       "    (6): Linear(in_features=4096, out_features=1000, bias=True)\n",
       "  )\n",
       ")"
      ]
     },
     "execution_count": 6,
     "metadata": {},
     "output_type": "execute_result"
    }
   ],
   "source": [
    "model = alexnet(weights=weights).to(device)\n",
    "model\n"
   ]
  },
  {
   "cell_type": "code",
   "execution_count": 7,
   "metadata": {},
   "outputs": [
    {
     "data": {
      "text/plain": [
       "========================================================================================================================\n",
       "Layer (type (var_name))                  Input Shape          Output Shape         Param #              Trainable\n",
       "========================================================================================================================\n",
       "AlexNet (AlexNet)                        [32, 3, 224, 224]    [32, 1000]           --                   True\n",
       "├─Sequential (features)                  [32, 3, 224, 224]    [32, 256, 6, 6]      --                   True\n",
       "│    └─Conv2d (0)                        [32, 3, 224, 224]    [32, 64, 55, 55]     23,296               True\n",
       "│    └─ReLU (1)                          [32, 64, 55, 55]     [32, 64, 55, 55]     --                   --\n",
       "│    └─MaxPool2d (2)                     [32, 64, 55, 55]     [32, 64, 27, 27]     --                   --\n",
       "│    └─Conv2d (3)                        [32, 64, 27, 27]     [32, 192, 27, 27]    307,392              True\n",
       "│    └─ReLU (4)                          [32, 192, 27, 27]    [32, 192, 27, 27]    --                   --\n",
       "│    └─MaxPool2d (5)                     [32, 192, 27, 27]    [32, 192, 13, 13]    --                   --\n",
       "│    └─Conv2d (6)                        [32, 192, 13, 13]    [32, 384, 13, 13]    663,936              True\n",
       "│    └─ReLU (7)                          [32, 384, 13, 13]    [32, 384, 13, 13]    --                   --\n",
       "│    └─Conv2d (8)                        [32, 384, 13, 13]    [32, 256, 13, 13]    884,992              True\n",
       "│    └─ReLU (9)                          [32, 256, 13, 13]    [32, 256, 13, 13]    --                   --\n",
       "│    └─Conv2d (10)                       [32, 256, 13, 13]    [32, 256, 13, 13]    590,080              True\n",
       "│    └─ReLU (11)                         [32, 256, 13, 13]    [32, 256, 13, 13]    --                   --\n",
       "│    └─MaxPool2d (12)                    [32, 256, 13, 13]    [32, 256, 6, 6]      --                   --\n",
       "├─AdaptiveAvgPool2d (avgpool)            [32, 256, 6, 6]      [32, 256, 6, 6]      --                   --\n",
       "├─Sequential (classifier)                [32, 9216]           [32, 1000]           --                   True\n",
       "│    └─Dropout (0)                       [32, 9216]           [32, 9216]           --                   --\n",
       "│    └─Linear (1)                        [32, 9216]           [32, 4096]           37,752,832           True\n",
       "│    └─ReLU (2)                          [32, 4096]           [32, 4096]           --                   --\n",
       "│    └─Dropout (3)                       [32, 4096]           [32, 4096]           --                   --\n",
       "│    └─Linear (4)                        [32, 4096]           [32, 4096]           16,781,312           True\n",
       "│    └─ReLU (5)                          [32, 4096]           [32, 4096]           --                   --\n",
       "│    └─Linear (6)                        [32, 4096]           [32, 1000]           4,097,000            True\n",
       "========================================================================================================================\n",
       "Total params: 61,100,840\n",
       "Trainable params: 61,100,840\n",
       "Non-trainable params: 0\n",
       "Total mult-adds (Units.GIGABYTES): 22.87\n",
       "========================================================================================================================\n",
       "Input size (MB): 19.27\n",
       "Forward/backward pass size (MB): 126.51\n",
       "Params size (MB): 244.40\n",
       "Estimated Total Size (MB): 390.18\n",
       "========================================================================================================================"
      ]
     },
     "execution_count": 7,
     "metadata": {},
     "output_type": "execute_result"
    }
   ],
   "source": [
    "from torchinfo import summary\n",
    "summary(model=model,\n",
    "        input_size=(32,3,224,224),\n",
    "        col_names=[\"input_size\", \"output_size\", \"num_params\", \"trainable\"],\n",
    "        col_width=20,\n",
    "        row_settings=[\"var_names\"])\n"
   ]
  },
  {
   "cell_type": "code",
   "execution_count": 8,
   "metadata": {},
   "outputs": [],
   "source": [
    "for param in model.parameters():\n",
    "    param.requires_grad = False"
   ]
  },
  {
   "cell_type": "code",
   "execution_count": 9,
   "metadata": {},
   "outputs": [
    {
     "data": {
      "text/plain": [
       "AlexNet(\n",
       "  (features): Sequential(\n",
       "    (0): Conv2d(3, 64, kernel_size=(11, 11), stride=(4, 4), padding=(2, 2))\n",
       "    (1): ReLU(inplace=True)\n",
       "    (2): MaxPool2d(kernel_size=3, stride=2, padding=0, dilation=1, ceil_mode=False)\n",
       "    (3): Conv2d(64, 192, kernel_size=(5, 5), stride=(1, 1), padding=(2, 2))\n",
       "    (4): ReLU(inplace=True)\n",
       "    (5): MaxPool2d(kernel_size=3, stride=2, padding=0, dilation=1, ceil_mode=False)\n",
       "    (6): Conv2d(192, 384, kernel_size=(3, 3), stride=(1, 1), padding=(1, 1))\n",
       "    (7): ReLU(inplace=True)\n",
       "    (8): Conv2d(384, 256, kernel_size=(3, 3), stride=(1, 1), padding=(1, 1))\n",
       "    (9): ReLU(inplace=True)\n",
       "    (10): Conv2d(256, 256, kernel_size=(3, 3), stride=(1, 1), padding=(1, 1))\n",
       "    (11): ReLU(inplace=True)\n",
       "    (12): MaxPool2d(kernel_size=3, stride=2, padding=0, dilation=1, ceil_mode=False)\n",
       "  )\n",
       "  (avgpool): AdaptiveAvgPool2d(output_size=(6, 6))\n",
       "  (classifier): Sequential(\n",
       "    (0): Dropout(p=0.5, inplace=False)\n",
       "    (1): Linear(in_features=9216, out_features=4096, bias=True)\n",
       "    (2): ReLU(inplace=True)\n",
       "    (3): Dropout(p=0.5, inplace=False)\n",
       "    (4): Linear(in_features=4096, out_features=4096, bias=True)\n",
       "    (5): ReLU(inplace=True)\n",
       "    (6): Sequential(\n",
       "      (0): Dropout(p=0.2, inplace=False)\n",
       "      (1): Linear(in_features=4096, out_features=2, bias=True)\n",
       "    )\n",
       "  )\n",
       ")"
      ]
     },
     "execution_count": 9,
     "metadata": {},
     "output_type": "execute_result"
    }
   ],
   "source": [
    "torch.manual_seed(42)\n",
    "output_shape = len(class_names)\n",
    "\n",
    "# Access the last linear layer in the classifier\n",
    "num_features = model.classifier[6].in_features\n",
    "\n",
    "# Replace the last linear layer\n",
    "model.classifier[6] = nn.Sequential(\n",
    "    nn.Dropout(p=0.2),\n",
    "    nn.Linear(num_features, output_shape, bias=True)\n",
    ").to(device)\n",
    "\n",
    "model\n"
   ]
  },
  {
   "cell_type": "code",
   "execution_count": 10,
   "metadata": {},
   "outputs": [
    {
     "data": {
      "text/plain": [
       "========================================================================================================================\n",
       "Layer (type (var_name))                  Input Shape          Output Shape         Param #              Trainable\n",
       "========================================================================================================================\n",
       "AlexNet (AlexNet)                        [32, 3, 224, 224]    [32, 2]              --                   Partial\n",
       "├─Sequential (features)                  [32, 3, 224, 224]    [32, 256, 6, 6]      --                   False\n",
       "│    └─Conv2d (0)                        [32, 3, 224, 224]    [32, 64, 55, 55]     (23,296)             False\n",
       "│    └─ReLU (1)                          [32, 64, 55, 55]     [32, 64, 55, 55]     --                   --\n",
       "│    └─MaxPool2d (2)                     [32, 64, 55, 55]     [32, 64, 27, 27]     --                   --\n",
       "│    └─Conv2d (3)                        [32, 64, 27, 27]     [32, 192, 27, 27]    (307,392)            False\n",
       "│    └─ReLU (4)                          [32, 192, 27, 27]    [32, 192, 27, 27]    --                   --\n",
       "│    └─MaxPool2d (5)                     [32, 192, 27, 27]    [32, 192, 13, 13]    --                   --\n",
       "│    └─Conv2d (6)                        [32, 192, 13, 13]    [32, 384, 13, 13]    (663,936)            False\n",
       "│    └─ReLU (7)                          [32, 384, 13, 13]    [32, 384, 13, 13]    --                   --\n",
       "│    └─Conv2d (8)                        [32, 384, 13, 13]    [32, 256, 13, 13]    (884,992)            False\n",
       "│    └─ReLU (9)                          [32, 256, 13, 13]    [32, 256, 13, 13]    --                   --\n",
       "│    └─Conv2d (10)                       [32, 256, 13, 13]    [32, 256, 13, 13]    (590,080)            False\n",
       "│    └─ReLU (11)                         [32, 256, 13, 13]    [32, 256, 13, 13]    --                   --\n",
       "│    └─MaxPool2d (12)                    [32, 256, 13, 13]    [32, 256, 6, 6]      --                   --\n",
       "├─AdaptiveAvgPool2d (avgpool)            [32, 256, 6, 6]      [32, 256, 6, 6]      --                   --\n",
       "├─Sequential (classifier)                [32, 9216]           [32, 2]              --                   Partial\n",
       "│    └─Dropout (0)                       [32, 9216]           [32, 9216]           --                   --\n",
       "│    └─Linear (1)                        [32, 9216]           [32, 4096]           (37,752,832)         False\n",
       "│    └─ReLU (2)                          [32, 4096]           [32, 4096]           --                   --\n",
       "│    └─Dropout (3)                       [32, 4096]           [32, 4096]           --                   --\n",
       "│    └─Linear (4)                        [32, 4096]           [32, 4096]           (16,781,312)         False\n",
       "│    └─ReLU (5)                          [32, 4096]           [32, 4096]           --                   --\n",
       "│    └─Sequential (6)                    [32, 4096]           [32, 2]              --                   True\n",
       "│    │    └─Dropout (0)                  [32, 4096]           [32, 4096]           --                   --\n",
       "│    │    └─Linear (1)                   [32, 4096]           [32, 2]              8,194                True\n",
       "========================================================================================================================\n",
       "Total params: 57,012,034\n",
       "Trainable params: 8,194\n",
       "Non-trainable params: 57,003,840\n",
       "Total mult-adds (Units.GIGABYTES): 22.74\n",
       "========================================================================================================================\n",
       "Input size (MB): 19.27\n",
       "Forward/backward pass size (MB): 126.26\n",
       "Params size (MB): 228.05\n",
       "Estimated Total Size (MB): 373.57\n",
       "========================================================================================================================"
      ]
     },
     "execution_count": 10,
     "metadata": {},
     "output_type": "execute_result"
    }
   ],
   "source": [
    "summary(model,\n",
    "        input_size=(32,3,224,224),\n",
    "        verbose=0,\n",
    "        col_names=[\"input_size\", \"output_size\", \"num_params\", \"trainable\"],\n",
    "        col_width=20,\n",
    "        row_settings=[\"var_names\"])\n"
   ]
  },
  {
   "cell_type": "code",
   "execution_count": 11,
   "metadata": {},
   "outputs": [],
   "source": [
    "loss_fn = nn.CrossEntropyLoss()\n",
    "optimizer = torch.optim.Adam(model.parameters(),lr=0.001,weight_decay=0.001)"
   ]
  },
  {
   "cell_type": "code",
   "execution_count": 12,
   "metadata": {},
   "outputs": [
    {
     "name": "stdout",
     "output_type": "stream",
     "text": [
      "Epoch 0:------\n",
      "Train Loss: 0.4072 | Train Accuracy: 0.8130\n",
      "Test Loss: 0.2682 | Test Accuracy: 0.8887\n",
      "Epoch 1:------\n",
      "Train Loss: 0.3001 | Train Accuracy: 0.8646\n",
      "Test Loss: 0.2603 | Test Accuracy: 0.8838\n",
      "Epoch 2:------\n",
      "Train Loss: 0.2710 | Train Accuracy: 0.8819\n",
      "Test Loss: 0.2516 | Test Accuracy: 0.8848\n",
      "Epoch 3:------\n",
      "Train Loss: 0.2600 | Train Accuracy: 0.8810\n",
      "Test Loss: 0.2397 | Test Accuracy: 0.9062\n",
      "Epoch 4:------\n",
      "Train Loss: 0.2516 | Train Accuracy: 0.8894\n",
      "Test Loss: 0.2164 | Test Accuracy: 0.9209\n"
     ]
    }
   ],
   "source": [
    "def train_step(model: torch.nn.Module,\n",
    "               dataloader: torch.utils.data.DataLoader,\n",
    "               loss_fn: torch.nn.Module,\n",
    "               optimizer: torch.optim.Optimizer,\n",
    "               device: torch.device):\n",
    "    model.train()\n",
    "    train_loss,train_acc = 0,0\n",
    "    for batch,(X,y) in enumerate(dataloader):\n",
    "        X,y = X.to(device),y.to(device)\n",
    "        y_pred = model(X)\n",
    "        loss = loss_fn(y_pred,y)\n",
    "        train_loss += loss.item()\n",
    "        optimizer.zero_grad()\n",
    "        loss.backward()\n",
    "        optimizer.step()\n",
    "        y_pred_class = torch.argmax(torch.softmax(y_pred,dim=1),dim=1)\n",
    "        train_acc += (y_pred_class == y).sum().item()/len(y_pred)\n",
    "    train_loss /= len(dataloader)\n",
    "    train_acc /= len(dataloader)\n",
    "    print(f\"Train Loss: {train_loss:.4f} | Train Accuracy: {train_acc:.4f}\")\n",
    "\n",
    "def test_step(model: torch.nn.Module,\n",
    "              dataloader: torch.utils.data.DataLoader,\n",
    "              loss_fn: torch.nn.Module,\n",
    "              device: torch.device):\n",
    "    model.eval()\n",
    "    test_loss,test_acc = 0,0\n",
    "    with torch.inference_mode():\n",
    "        for batch,(X,y) in enumerate(dataloader):\n",
    "            X,y = X.to(device),y.to(device)\n",
    "            test_pred_logits = model(X)\n",
    "            loss = loss_fn(test_pred_logits,y)\n",
    "            test_loss += loss.item()\n",
    "\n",
    "            test_pred_labels = test_pred_logits.argmax(dim=1)\n",
    "            test_acc += ((test_pred_labels == y).sum().item()/len(test_pred_labels))\n",
    "\n",
    "        test_loss /= len(dataloader)\n",
    "        test_acc /= len(dataloader)\n",
    "        print(f\"Test Loss: {test_loss:.4f} | Test Accuracy: {test_acc:.4f}\")\n",
    "     \n",
    "\n",
    "torch.manual_seed(42)\n",
    "epochs = 5\n",
    "for epoch in range(epochs):\n",
    "    print(f\"Epoch {epoch}:------\")\n",
    "    train_step(model,train_loader,loss_fn,optimizer,device)\n",
    "    test_step(model,test_loader,loss_fn,device)\n"
   ]
  },
  {
   "cell_type": "code",
   "execution_count": 13,
   "metadata": {},
   "outputs": [],
   "source": [
    "manual_optimizer = torch.optim.Adam(model.parameters(),lr=0.001)\n",
    "lambda_ = 0.001"
   ]
  },
  {
   "cell_type": "code",
   "execution_count": 14,
   "metadata": {},
   "outputs": [],
   "source": [
    "def manual_train_step(model, dataloader, loss_fn, optimizer, device, lambda_):\n",
    "    model.train()\n",
    "    train_loss,train_acc = 0,0\n",
    "    for batch,(X,y) in enumerate(dataloader):\n",
    "        X,y = X.to(device),y.to(device)\n",
    "        y_pred = model(X)\n",
    "        loss = loss_fn(y_pred,y)\n",
    "        l2_reg = 0.0\n",
    "        for param in model.parameters():\n",
    "            l2_reg = torch.norm(param,p=2)\n",
    "        loss += 0.5*lambda_*l2_reg\n",
    "        train_loss += loss.item()\n",
    "        optimizer.zero_grad()\n",
    "        loss.backward()\n",
    "        optimizer.step()\n",
    "        y_pred_class = torch.argmax(torch.softmax(y_pred,dim=1),dim=1)\n",
    "        train_acc += torch.eq(y_pred_class,y).sum().item()/len(y_pred)\n",
    "    train_loss /= len(dataloader)\n",
    "    train_acc /= len(dataloader)\n",
    "    print(f\"Train loss: {train_loss:.4f} | Train accuracy: {train_acc:.4f}\")\n",
    "\n",
    "def manual_test_step(model,dataloader,loss_fn,device):\n",
    "    model.eval()\n",
    "    test_loss,test_acc = 0,0\n",
    "    with torch.inference_mode():\n",
    "        for batch,(X,y) in enumerate(dataloader):\n",
    "            X,y = X.to(device),y.to(device)\n",
    "            test_pred_logits = model(X)\n",
    "            loss = loss_fn(test_pred_logits,y)\n",
    "            test_loss += loss.item()\n",
    "\n",
    "            test_pred_labels = test_pred_logits.argmax(dim=1)\n",
    "            test_acc += (test_pred_labels == y).sum().item() / len(test_pred_labels)\n",
    "\n",
    "        test_loss /= len(dataloader)\n",
    "        test_acc /= len(dataloader)\n",
    "        print(f\"Test Loss: {test_loss:.4f} | Test Accuracy: {test_acc:.4f}\")        "
   ]
  },
  {
   "cell_type": "code",
   "execution_count": 15,
   "metadata": {},
   "outputs": [
    {
     "name": "stdout",
     "output_type": "stream",
     "text": [
      "Epoch 1\n",
      "Train loss: 0.2169 | Train accuracy: 0.9102\n",
      "Test Loss: 0.2079 | Test Accuracy: 0.9189\n",
      "Epoch 2\n",
      "Train loss: 0.2320 | Train accuracy: 0.9023\n",
      "Test Loss: 0.2738 | Test Accuracy: 0.8691\n",
      "Epoch 3\n",
      "Train loss: 0.2130 | Train accuracy: 0.9092\n",
      "Test Loss: 0.2197 | Test Accuracy: 0.9102\n",
      "Epoch 4\n",
      "Train loss: 0.2114 | Train accuracy: 0.9038\n",
      "Test Loss: 0.2443 | Test Accuracy: 0.9014\n",
      "Epoch 5\n",
      "Train loss: 0.2119 | Train accuracy: 0.9043\n",
      "Test Loss: 0.2035 | Test Accuracy: 0.9209\n"
     ]
    }
   ],
   "source": [
    "torch.manual_seed(42)\n",
    "epochs = 5\n",
    "for epoch in range(epochs):\n",
    "    print(f\"Epoch {epoch+1}\")\n",
    "    manual_train_step(model, train_loader, loss_fn, manual_optimizer, device, lambda_)\n",
    "    manual_test_step(model,test_loader,loss_fn,device)"
   ]
  },
  {
   "cell_type": "code",
   "execution_count": 21,
   "metadata": {},
   "outputs": [
    {
     "data": {
      "text/plain": [
       "1"
      ]
     },
     "execution_count": 21,
     "metadata": {},
     "output_type": "execute_result"
    }
   ],
   "source": [
    "l1_optimizer = torch.optim.Adam(model.parameters(),lr=0.001)\n",
    "lambda_ = 0.000\n",
    "1"
   ]
  },
  {
   "cell_type": "code",
   "execution_count": 22,
   "metadata": {},
   "outputs": [
    {
     "name": "stdout",
     "output_type": "stream",
     "text": [
      "Epoch 1\n",
      "Train loss: 0.3314 | Train accuracy: 0.8601\n",
      "Test Loss: 0.2340 | Test Accuracy: 0.9043\n",
      "Epoch 2\n",
      "Train loss: 0.2932 | Train accuracy: 0.8705\n",
      "Test Loss: 0.2405 | Test Accuracy: 0.8936\n",
      "Epoch 3\n",
      "Train loss: 0.2663 | Train accuracy: 0.8859\n",
      "Test Loss: 0.2342 | Test Accuracy: 0.8984\n",
      "Epoch 4\n",
      "Train loss: 0.2575 | Train accuracy: 0.8810\n",
      "Test Loss: 0.2246 | Test Accuracy: 0.9150\n",
      "Epoch 5\n",
      "Train loss: 0.2337 | Train accuracy: 0.8968\n",
      "Test Loss: 0.2088 | Test Accuracy: 0.9219\n"
     ]
    }
   ],
   "source": [
    "def manual_l1_train_step(model, dataloader, loss_fn, optimizer, device, lambda_):\n",
    "    model.train()\n",
    "    train_loss,train_acc = 0,0\n",
    "    for batch,(X,y) in enumerate(dataloader):\n",
    "        X,y = X.to(device),y.to(device)\n",
    "        y_pred = model(X)\n",
    "        loss = loss_fn(y_pred,y)\n",
    "        l2_reg = 0.0\n",
    "        for param in model.parameters():\n",
    "            l2_reg = torch.norm(param,p=2)\n",
    "        loss += 0.5*lambda_*l2_reg\n",
    "        train_loss += loss.item()\n",
    "        optimizer.zero_grad()\n",
    "        loss.backward()\n",
    "        optimizer.step()\n",
    "        y_pred_class = torch.argmax(torch.softmax(y_pred,dim=1),dim=1)\n",
    "        train_acc += torch.eq(y_pred_class,y).sum().item()/len(y_pred)\n",
    "    train_loss /= len(dataloader)\n",
    "    train_acc /= len(dataloader)\n",
    "    print(f\"Train loss: {train_loss:.4f} | Train accuracy: {train_acc:.4f}\")\n",
    "\n",
    "\n",
    "torch.manual_seed(42)\n",
    "epochs = 5\n",
    "for epoch in range(epochs):\n",
    "    print(f\"Epoch {epoch+1}\")\n",
    "    manual_train_step(model, train_loader, loss_fn, l1_optimizer, device, lambda_)\n",
    "    manual_test_step(model,test_loader,loss_fn,device)\n",
    "\n"
   ]
  },
  {
   "cell_type": "markdown",
   "metadata": {},
   "source": [
    "Compare performance of the dog vs cat model with Dropout and without Dropout "
   ]
  },
  {
   "cell_type": "code",
   "execution_count": 26,
   "metadata": {},
   "outputs": [
    {
     "data": {
      "text/plain": [
       "<torch.autograd.anomaly_mode.set_detect_anomaly at 0x2181b2393d0>"
      ]
     },
     "execution_count": 26,
     "metadata": {},
     "output_type": "execute_result"
    }
   ],
   "source": [
    "import torch\n",
    "from torch import nn\n",
    "import torchvision\n",
    "from torchvision import datasets,transforms\n",
    "from torchvision.datasets import ImageFolder\n",
    "from torchvision.transforms import ToTensor\n",
    "from torchvision.models import alexnet,AlexNet_Weights\n",
    "from torch.utils.data import Dataset,DataLoader,default_collate\n",
    "torch.autograd.set_detect_anomaly(True)\n",
    "\n"
   ]
  },
  {
   "cell_type": "code",
   "execution_count": 27,
   "metadata": {},
   "outputs": [
    {
     "data": {
      "text/plain": [
       "AlexNet_Weights.IMAGENET1K_V1"
      ]
     },
     "execution_count": 27,
     "metadata": {},
     "output_type": "execute_result"
    }
   ],
   "source": [
    "weights = AlexNet_Weights.DEFAULT\n",
    "weights"
   ]
  },
  {
   "cell_type": "code",
   "execution_count": 28,
   "metadata": {},
   "outputs": [
    {
     "data": {
      "text/plain": [
       "ImageClassification(\n",
       "    crop_size=[224]\n",
       "    resize_size=[256]\n",
       "    mean=[0.485, 0.456, 0.406]\n",
       "    std=[0.229, 0.224, 0.225]\n",
       "    interpolation=InterpolationMode.BILINEAR\n",
       ")"
      ]
     },
     "execution_count": 28,
     "metadata": {},
     "output_type": "execute_result"
    }
   ],
   "source": [
    "auto_transforms = weights.transforms()\n",
    "auto_transforms"
   ]
  },
  {
   "cell_type": "code",
   "execution_count": 29,
   "metadata": {},
   "outputs": [
    {
     "data": {
      "text/plain": [
       "'cuda'"
      ]
     },
     "execution_count": 29,
     "metadata": {},
     "output_type": "execute_result"
    }
   ],
   "source": [
    "device = \"cuda\" if torch.cuda.is_available() else \"cpu\"\n",
    "device"
   ]
  },
  {
   "cell_type": "code",
   "execution_count": 30,
   "metadata": {},
   "outputs": [],
   "source": [
    "train_dataset = ImageFolder(root=r'C:\\Users\\rsurs\\OneDrive\\Documents\\University_Study Material\\3rd year\\6th sem\\DL_lab\\RNN\\CNN\\cats_and_dogs_filtered\\cats_and_dogs_filtered\\train',transform=auto_transforms,target_transform=None)\n",
    "test_dataset = ImageFolder(root=r'C:\\Users\\rsurs\\OneDrive\\Documents\\University_Study Material\\3rd year\\6th sem\\DL_lab\\RNN\\CNN\\cats_and_dogs_filtered\\cats_and_dogs_filtered\\validation',transform=auto_transforms)\n",
    "train_loader = DataLoader(dataset=train_dataset,batch_size=32,shuffle=True)\n",
    "test_loader = DataLoader(dataset=test_dataset,batch_size=32)\n",
    "\n",
    "class_names = train_dataset.classes\n",
    "output_shape = len(class_names)"
   ]
  },
  {
   "cell_type": "code",
   "execution_count": 31,
   "metadata": {},
   "outputs": [
    {
     "data": {
      "text/plain": [
       "AlexNet(\n",
       "  (features): Sequential(\n",
       "    (0): Conv2d(3, 64, kernel_size=(11, 11), stride=(4, 4), padding=(2, 2))\n",
       "    (1): ReLU(inplace=True)\n",
       "    (2): MaxPool2d(kernel_size=3, stride=2, padding=0, dilation=1, ceil_mode=False)\n",
       "    (3): Conv2d(64, 192, kernel_size=(5, 5), stride=(1, 1), padding=(2, 2))\n",
       "    (4): ReLU(inplace=True)\n",
       "    (5): MaxPool2d(kernel_size=3, stride=2, padding=0, dilation=1, ceil_mode=False)\n",
       "    (6): Conv2d(192, 384, kernel_size=(3, 3), stride=(1, 1), padding=(1, 1))\n",
       "    (7): ReLU(inplace=True)\n",
       "    (8): Conv2d(384, 256, kernel_size=(3, 3), stride=(1, 1), padding=(1, 1))\n",
       "    (9): ReLU(inplace=True)\n",
       "    (10): Conv2d(256, 256, kernel_size=(3, 3), stride=(1, 1), padding=(1, 1))\n",
       "    (11): ReLU(inplace=True)\n",
       "    (12): MaxPool2d(kernel_size=3, stride=2, padding=0, dilation=1, ceil_mode=False)\n",
       "  )\n",
       "  (avgpool): AdaptiveAvgPool2d(output_size=(6, 6))\n",
       "  (classifier): Sequential(\n",
       "    (0): Dropout(p=0.5, inplace=False)\n",
       "    (1): Linear(in_features=9216, out_features=4096, bias=True)\n",
       "    (2): ReLU(inplace=True)\n",
       "    (3): Dropout(p=0.5, inplace=False)\n",
       "    (4): Linear(in_features=4096, out_features=4096, bias=True)\n",
       "    (5): ReLU(inplace=True)\n",
       "    (6): Linear(in_features=4096, out_features=1000, bias=True)\n",
       "  )\n",
       ")"
      ]
     },
     "execution_count": 31,
     "metadata": {},
     "output_type": "execute_result"
    }
   ],
   "source": [
    "model = alexnet(weights=weights).to(device)\n",
    "model"
   ]
  },
  {
   "cell_type": "code",
   "execution_count": 32,
   "metadata": {},
   "outputs": [],
   "source": [
    "for param in model.features.parameters():\n",
    "    param.requires_grad = False"
   ]
  },
  {
   "cell_type": "code",
   "execution_count": 33,
   "metadata": {},
   "outputs": [],
   "source": [
    "num_features = model.classifier[6].in_features\n",
    "model.classifier[6] = nn.Sequential(\n",
    "    nn.Dropout(p=0.2), #remove inplace operation\n",
    "    nn.Linear(in_features=num_features,out_features=output_shape)\n",
    ").to(device)"
   ]
  },
  {
   "cell_type": "code",
   "execution_count": 49,
   "metadata": {},
   "outputs": [
    {
     "data": {
      "text/plain": [
       "========================================================================================================================\n",
       "Layer (type (var_name))                  Input Shape          Output Shape         Param #              Trainable\n",
       "========================================================================================================================\n",
       "AlexNet (AlexNet)                        [32, 3, 224, 224]    [32, 2]              --                   Partial\n",
       "├─Sequential (features)                  [32, 3, 224, 224]    [32, 256, 6, 6]      --                   False\n",
       "│    └─Conv2d (0)                        [32, 3, 224, 224]    [32, 64, 55, 55]     (23,296)             False\n",
       "│    └─ReLU (1)                          [32, 64, 55, 55]     [32, 64, 55, 55]     --                   --\n",
       "│    └─MaxPool2d (2)                     [32, 64, 55, 55]     [32, 64, 27, 27]     --                   --\n",
       "│    └─Conv2d (3)                        [32, 64, 27, 27]     [32, 192, 27, 27]    (307,392)            False\n",
       "│    └─ReLU (4)                          [32, 192, 27, 27]    [32, 192, 27, 27]    --                   --\n",
       "│    └─MaxPool2d (5)                     [32, 192, 27, 27]    [32, 192, 13, 13]    --                   --\n",
       "│    └─Conv2d (6)                        [32, 192, 13, 13]    [32, 384, 13, 13]    (663,936)            False\n",
       "│    └─ReLU (7)                          [32, 384, 13, 13]    [32, 384, 13, 13]    --                   --\n",
       "│    └─Conv2d (8)                        [32, 384, 13, 13]    [32, 256, 13, 13]    (884,992)            False\n",
       "│    └─ReLU (9)                          [32, 256, 13, 13]    [32, 256, 13, 13]    --                   --\n",
       "│    └─Conv2d (10)                       [32, 256, 13, 13]    [32, 256, 13, 13]    (590,080)            False\n",
       "│    └─ReLU (11)                         [32, 256, 13, 13]    [32, 256, 13, 13]    --                   --\n",
       "│    └─MaxPool2d (12)                    [32, 256, 13, 13]    [32, 256, 6, 6]      --                   --\n",
       "├─AdaptiveAvgPool2d (avgpool)            [32, 256, 6, 6]      [32, 256, 6, 6]      --                   --\n",
       "├─Sequential (classifier)                [32, 9216]           [32, 2]              --                   True\n",
       "│    └─Dropout (0)                       [32, 9216]           [32, 9216]           --                   --\n",
       "│    └─Linear (1)                        [32, 9216]           [32, 4096]           37,752,832           True\n",
       "│    └─ReLU (2)                          [32, 4096]           [32, 4096]           --                   --\n",
       "│    └─Dropout (3)                       [32, 4096]           [32, 4096]           --                   --\n",
       "│    └─Linear (4)                        [32, 4096]           [32, 4096]           16,781,312           True\n",
       "│    └─ReLU (5)                          [32, 4096]           [32, 4096]           --                   --\n",
       "│    └─Sequential (6)                    [32, 4096]           [32, 2]              --                   True\n",
       "│    │    └─Dropout (0)                  [32, 4096]           [32, 4096]           --                   --\n",
       "│    │    └─Linear (1)                   [32, 4096]           [32, 2]              8,194                True\n",
       "========================================================================================================================\n",
       "Total params: 57,012,034\n",
       "Trainable params: 54,542,338\n",
       "Non-trainable params: 2,469,696\n",
       "Total mult-adds (Units.GIGABYTES): 22.74\n",
       "========================================================================================================================\n",
       "Input size (MB): 19.27\n",
       "Forward/backward pass size (MB): 126.26\n",
       "Params size (MB): 228.05\n",
       "Estimated Total Size (MB): 373.57\n",
       "========================================================================================================================"
      ]
     },
     "execution_count": 49,
     "metadata": {},
     "output_type": "execute_result"
    }
   ],
   "source": [
    "\n",
    "'''#summary(model,\n",
    "        input_size=(32,3,224,224),\n",
    "        verbose=0,\n",
    "        col_names=[\"input_size\", \"output_size\", \"num_params\", \"trainable\"],\n",
    "        col_width=20,\n",
    "        row_settings=[\"var_names\"])'''"
   ]
  },
  {
   "cell_type": "code",
   "execution_count": 34,
   "metadata": {},
   "outputs": [],
   "source": [
    "optimizer = torch.optim.Adam(model.parameters(),lr=0.001)\n",
    "loss_fn = nn.CrossEntropyLoss()"
   ]
  },
  {
   "cell_type": "code",
   "execution_count": 35,
   "metadata": {},
   "outputs": [],
   "source": [
    "def train_step(model: torch.nn.Module,\n",
    "               dataloader: torch.utils.data.DataLoader,\n",
    "               loss_fn: torch.nn.Module,\n",
    "               optimizer: torch.optim.Optimizer,\n",
    "               device: torch.device):\n",
    "    model.train()\n",
    "    train_loss,train_acc = 0,0\n",
    "    for batch,(X,y) in enumerate(dataloader):\n",
    "        X,y = X.to(device),y.to(device)\n",
    "        y_pred = model(X)\n",
    "        loss = loss_fn(y_pred,y)\n",
    "        train_loss += loss.item()\n",
    "        optimizer.zero_grad()\n",
    "        loss.backward()\n",
    "        optimizer.step()\n",
    "        y_pred_class = torch.argmax(torch.softmax(y_pred,dim=1),dim=1)\n",
    "        train_acc += (y_pred_class == y).sum().item()/len(y_pred)\n",
    "    train_loss /= len(dataloader)\n",
    "    train_acc /= len(dataloader)\n",
    "    #print(f\"Train Loss: {train_loss:.4f} | Train Accuracy: {train_acc:.4f}\")\n",
    "    return train_loss,train_acc\n",
    "\n",
    "def test_step(model: torch.nn.Module,\n",
    "              dataloader: torch.utils.data.DataLoader,\n",
    "              loss_fn: torch.nn.Module,\n",
    "              device: torch.device):\n",
    "    model.eval()\n",
    "    test_loss,test_acc = 0,0\n",
    "    with torch.inference_mode():\n",
    "        for batch,(X,y) in enumerate(dataloader):\n",
    "            X,y = X.to(device),y.to(device)\n",
    "            test_pred_logits = model(X)\n",
    "            loss = loss_fn(test_pred_logits,y)\n",
    "            test_loss += loss.item()\n",
    "\n",
    "            test_pred_labels = test_pred_logits.argmax(dim=1)\n",
    "            test_acc += ((test_pred_labels == y).sum().item()/len(test_pred_labels))\n",
    "\n",
    "        test_loss /= len(dataloader)\n",
    "        test_acc /= len(dataloader)\n",
    "        #print(f\"Test Loss: {test_loss:.4f} | Test Accuracy: {test_acc:.4f}\")\n",
    "        return test_loss,test_acc\n"
   ]
  },
  {
   "cell_type": "code",
   "execution_count": 36,
   "metadata": {},
   "outputs": [],
   "source": [
    "def train_dropout(model, train_loader, test_loader, loss_fn, optimizer, device, dropout_prob=0.5):\n",
    "    num_epochs = 5\n",
    "    model.to(device)\n",
    "    train_losses, train_accs, test_losses, test_accs = [], [], [], []\n",
    "    for epoch in range(num_epochs):\n",
    "        if dropout_prob > 0:\n",
    "            print(f\"Epoch:{epoch}---- Dropout Applied\")\n",
    "        else:\n",
    "            print(f\"Epoch:{epoch}---- No Dropout Applied\")\n",
    "        train_loss, train_acc = train_step(model, train_loader, loss_fn, optimizer, device)\n",
    "        test_loss, test_acc = test_step(model, test_loader, loss_fn, device)\n",
    "        train_losses.append(train_loss)\n",
    "        train_accs.append(train_acc)\n",
    "        test_losses.append(test_loss)\n",
    "        test_accs.append(test_acc)\n",
    "        print(f\"Train Loss: {train_loss:.4f} | Train accuracy: {train_acc:.4f}\")\n",
    "        print(f\"Test Loss: {test_loss:.4f} | Test accuracy: {test_acc:.4f}\")\n",
    "    return train_losses, train_accs, test_losses, test_accs\n",
    "\n",
    "def train_no_dropout(model, train_loader, test_loader, loss_fn, optimizer, device, dropout_prob=0):\n",
    "    print(\"No Dropout Applied\")\n",
    "    return train_dropout(model, train_loader, test_loader, loss_fn, optimizer, device, dropout_prob=0)\n"
   ]
  },
  {
   "cell_type": "code",
   "execution_count": 37,
   "metadata": {},
   "outputs": [
    {
     "name": "stdout",
     "output_type": "stream",
     "text": [
      "Epoch:0---- Dropout Applied\n",
      "Train Loss: 0.6580 | Train accuracy: 0.8730\n",
      "Test Loss: 0.1457 | Test accuracy: 0.9580\n",
      "Epoch:1---- Dropout Applied\n",
      "Train Loss: 0.3007 | Train accuracy: 0.9420\n",
      "Test Loss: 0.1829 | Test accuracy: 0.9502\n",
      "Epoch:2---- Dropout Applied\n",
      "Train Loss: 0.1629 | Train accuracy: 0.9663\n",
      "Test Loss: 0.3769 | Test accuracy: 0.9521\n",
      "Epoch:3---- Dropout Applied\n",
      "Train Loss: 0.2787 | Train accuracy: 0.9549\n",
      "Test Loss: 0.5180 | Test accuracy: 0.9375\n",
      "Epoch:4---- Dropout Applied\n",
      "Train Loss: 0.2941 | Train accuracy: 0.9568\n",
      "Test Loss: 0.7254 | Test accuracy: 0.9170\n",
      "No Dropout Applied\n",
      "Epoch:0---- No Dropout Applied\n",
      "Train Loss: 0.1501 | Train accuracy: 0.9732\n",
      "Test Loss: 0.1524 | Test accuracy: 0.9551\n",
      "Epoch:1---- No Dropout Applied\n",
      "Train Loss: 0.1622 | Train accuracy: 0.9752\n",
      "Test Loss: 0.2532 | Test accuracy: 0.9521\n",
      "Epoch:2---- No Dropout Applied\n",
      "Train Loss: 0.1224 | Train accuracy: 0.9812\n",
      "Test Loss: 0.2457 | Test accuracy: 0.9561\n",
      "Epoch:3---- No Dropout Applied\n",
      "Train Loss: 0.0973 | Train accuracy: 0.9831\n",
      "Test Loss: 0.4949 | Test accuracy: 0.9590\n",
      "Epoch:4---- No Dropout Applied\n",
      "Train Loss: 0.2054 | Train accuracy: 0.9757\n",
      "Test Loss: 0.3637 | Test accuracy: 0.9492\n"
     ]
    }
   ],
   "source": [
    "torch.manual_seed(42)\n",
    "\n",
    "\n",
    "train_losses, train_accs, test_losses, test_accs = train_dropout(model, train_loader, test_loader, loss_fn, optimizer, device)\n",
    "ndp_train_losses, ndp_train_accs, ndp_test_losses, ndp_test_accs = train_no_dropout(model, train_loader, test_loader, loss_fn, optimizer, device)\n"
   ]
  },
  {
   "cell_type": "code",
   "execution_count": 38,
   "metadata": {},
   "outputs": [
    {
     "data": {
      "image/png": "[encoded data removed]",
      "text/plain": [
       "<Figure size 1000x500 with 2 Axes>"
      ]
     },
     "metadata": {},
     "output_type": "display_data"
    }
   ],
   "source": [
    "import matplotlib.pyplot as plt \n",
    "plt.figure(figsize=(10, 5))\n",
    "plt.subplot(1, 2, 1)\n",
    "plt.plot(range(0,5), train_losses, label='With Dropout')\n",
    "plt.plot(range(0,5), ndp_train_losses, label='Without Dropout')\n",
    "plt.title('Train Loss')\n",
    "plt.xlabel('Epochs')\n",
    "plt.ylabel('Loss')\n",
    "plt.legend()\n",
    "\n",
    "plt.subplot(1, 2, 2)\n",
    "plt.plot(range(0,5), test_losses, label='With Dropout')\n",
    "plt.plot(range(0,5), ndp_test_losses, label='Without Dropout')\n",
    "plt.title('Test Loss')\n",
    "plt.xlabel('Epochs')\n",
    "plt.ylabel('Loss')\n",
    "plt.legend()\n",
    "plt.show()\n",
    "     \n"
   ]
  },
  {
   "cell_type": "markdown",
   "metadata": {},
   "source": [
    "Implementing Bernoulli dropout using torch library and without torch library"
   ]
  },
  {
   "cell_type": "code",
   "execution_count": 2,
   "metadata": {},
   "outputs": [
    {
     "name": "stdout",
     "output_type": "stream",
     "text": [
      "[[-3.61462109 -1.8845617  -0.         -0.         -0.        ]\n",
      " [-0.          0.          0.         -0.44973268 -1.08992283]\n",
      " [ 2.85354545  2.01978397  0.         -1.99855558  3.37936203]\n",
      " [ 0.         -0.         -0.         -0.         -0.        ]\n",
      " [ 0.         -0.         -0.         -0.         -0.        ]\n",
      " [-0.          0.92328272 -2.79390361 -2.74344786 -0.55331896]\n",
      " [-0.96608659 -0.         -0.          2.02898245 -0.25945227]\n",
      " [-2.27769519  0.         -0.         -0.         -0.        ]\n",
      " [ 2.18716075 -1.78573551 -0.         -0.96189746  0.        ]\n",
      " [ 0.1866142  -1.77061937  0.          0.          0.        ]]\n",
      "[[ 0.55608552 -0.20590661  0.66842261  0.89208616  0.74684648]\n",
      " [-1.50206133 -1.65667301 -1.10274919 -0.29610194 -0.29896046]\n",
      " [ 2.50652635 -0.16298983  0.45410624 -1.32237379  1.21575856]\n",
      " [ 1.12273986 -2.1001268   0.15527431 -1.95941489  0.37040391]\n",
      " [ 0.06362732  1.65579703 -1.56662409  0.27046628  0.9007608 ]\n",
      " [-0.20298292  0.06910731  1.49700551 -0.4425765  -1.33596908]\n",
      " [-1.05652767  0.67900172 -0.40137861 -1.80333297 -1.02931823]\n",
      " [ 1.64454041 -0.22409207 -0.82217991  0.63710656  0.86506282]\n",
      " [-0.17294365  1.35684563  0.0547762  -0.38575352  0.14471751]\n",
      " [ 0.86822206 -2.22037487  1.31713335 -0.08753775  1.08882226]]\n"
     ]
    }
   ],
   "source": [
    "import numpy as np\n",
    "\n",
    "class CustomDropout:\n",
    "    def __init__(self, dropout_prob):\n",
    "        self.dropout_prob = dropout_prob\n",
    "        self.dropout_mask = None\n",
    "\n",
    "    def forward(self, x):\n",
    "            self.dropout_mask = np.random.binomial(n=1, p=1 - self.dropout_prob, size=x.shape) / (1 - self.dropout_prob)\n",
    "            return x * self.dropout_mask\n",
    "\n",
    "dropout_layer = CustomDropout(dropout_prob=0.5)\n",
    "\n",
    "input_data = np.random.randn(10, 5)  \n",
    "output = dropout_layer.forward(input_data)\n",
    "print(output)"
   ]
  },
  {
   "cell_type": "code",
   "execution_count": 5,
   "metadata": {},
   "outputs": [
    {
     "name": "stdout",
     "output_type": "stream",
     "text": [
      "tensor([1., 1., 1., 1., 1., 1., 1., 1., 1., 1., 1., 1., 1., 1., 1., 1., 1., 1.,\n",
      "        1., 1., 1., 1., 1., 1., 1., 1., 1., 1., 1., 1., 1., 1., 1., 1., 1., 1.,\n",
      "        1., 1., 1., 1., 1., 1., 1., 1., 1., 1., 1., 1., 1., 1., 1., 1., 1., 1.,\n",
      "        1., 1., 1., 1., 1., 1., 1., 1., 1., 1., 1., 1., 1., 1., 1., 1., 1., 1.,\n",
      "        1., 1., 1., 1., 1., 1., 1., 1., 1., 1., 1., 1., 1., 1., 1., 1., 1., 1.,\n",
      "        1., 1., 1., 1., 1., 1., 1., 1., 1., 1.])\n",
      "tensor([1.1111, 1.1111, 0.0000, 1.1111, 1.1111, 1.1111, 1.1111, 1.1111, 1.1111,\n",
      "        1.1111, 1.1111, 0.0000, 1.1111, 1.1111, 1.1111, 1.1111, 1.1111, 0.0000,\n",
      "        1.1111, 1.1111, 1.1111, 1.1111, 1.1111, 0.0000, 1.1111, 1.1111, 1.1111,\n",
      "        1.1111, 1.1111, 1.1111, 1.1111, 1.1111, 1.1111, 1.1111, 1.1111, 1.1111,\n",
      "        1.1111, 1.1111, 1.1111, 1.1111, 1.1111, 1.1111, 1.1111, 1.1111, 1.1111,\n",
      "        1.1111, 1.1111, 1.1111, 1.1111, 1.1111, 1.1111, 1.1111, 1.1111, 1.1111,\n",
      "        1.1111, 1.1111, 1.1111, 1.1111, 1.1111, 1.1111, 1.1111, 1.1111, 1.1111,\n",
      "        1.1111, 0.0000, 1.1111, 1.1111, 1.1111, 1.1111, 1.1111, 1.1111, 1.1111,\n",
      "        1.1111, 1.1111, 1.1111, 1.1111, 1.1111, 1.1111, 1.1111, 1.1111, 0.0000,\n",
      "        1.1111, 1.1111, 1.1111, 1.1111, 1.1111, 1.1111, 0.0000, 1.1111, 1.1111,\n",
      "        1.1111, 1.1111, 1.1111, 1.1111, 1.1111, 1.1111, 1.1111, 1.1111, 1.1111,\n",
      "        1.1111])\n"
     ]
    }
   ],
   "source": [
    "import torch\n",
    "tensor = torch.ones(100)\n",
    "print(tensor)\n",
    "dropout_mask = torch.bernoulli(torch.full_like(tensor, fill_value=0.9))\n",
    "output = tensor * dropout_mask / 0.9\n",
    "print(output)"
   ]
  },
  {
   "cell_type": "markdown",
   "metadata": {},
   "source": [
    "Implement Early stopping"
   ]
  },
  {
   "cell_type": "code",
   "execution_count": 7,
   "metadata": {},
   "outputs": [],
   "source": [
    "import torch\n",
    "from torch import nn\n",
    "import torchvision\n",
    "from torch.utils.data import DataLoader\n",
    "from torchvision import datasets,transforms"
   ]
  },
  {
   "cell_type": "code",
   "execution_count": 11,
   "metadata": {},
   "outputs": [],
   "source": [
    "device = \"cuda\" if torch.cuda.is_available() else \"cpu\""
   ]
  },
  {
   "cell_type": "code",
   "execution_count": 9,
   "metadata": {},
   "outputs": [],
   "source": [
    "train_data = datasets.MNIST(root='data',download=True,train=True,transform=transforms.ToTensor(),target_transform=None)\n",
    "test_data = datasets.MNIST(root='data',download=True,train=False,transform=transforms.ToTensor())\n",
    "train_loader = DataLoader(dataset=train_data,batch_size=32,shuffle=True)\n",
    "test_loader = DataLoader(dataset=test_data,batch_size=32,shuffle=True)\n",
    "class_names = train_data.classes "
   ]
  },
  {
   "cell_type": "code",
   "execution_count": 12,
   "metadata": {},
   "outputs": [
    {
     "data": {
      "text/plain": [
       "CNNModel(\n",
       "  (block_1): Sequential(\n",
       "    (0): Conv2d(1, 10, kernel_size=(3, 3), stride=(1, 1), padding=(1, 1))\n",
       "    (1): ReLU()\n",
       "    (2): Conv2d(10, 10, kernel_size=(3, 3), stride=(1, 1), padding=(1, 1))\n",
       "    (3): ReLU()\n",
       "    (4): MaxPool2d(kernel_size=2, stride=2, padding=0, dilation=1, ceil_mode=False)\n",
       "  )\n",
       "  (block_2): Sequential(\n",
       "    (0): Conv2d(10, 10, kernel_size=(3, 3), stride=(1, 1), padding=(1, 1))\n",
       "    (1): ReLU()\n",
       "    (2): Conv2d(10, 10, kernel_size=(3, 3), stride=(1, 1), padding=(1, 1))\n",
       "    (3): ReLU()\n",
       "    (4): MaxPool2d(kernel_size=2, stride=2, padding=0, dilation=1, ceil_mode=False)\n",
       "  )\n",
       "  (classifier): Sequential(\n",
       "    (0): Flatten(start_dim=1, end_dim=-1)\n",
       "    (1): Linear(in_features=490, out_features=10, bias=True)\n",
       "  )\n",
       ")"
      ]
     },
     "execution_count": 12,
     "metadata": {},
     "output_type": "execute_result"
    }
   ],
   "source": [
    "class CNNModel(nn.Module):\n",
    "    def __init__(self, input_shape: int, hidden_units: int, output_shape: int):\n",
    "        super().__init__()\n",
    "        self.block_1 = nn.Sequential(\n",
    "            nn.Conv2d(in_channels=input_shape, \n",
    "                      out_channels=hidden_units, \n",
    "                      kernel_size=3,\n",
    "                      stride=1, \n",
    "                      padding=1), \n",
    "            nn.ReLU(),\n",
    "            nn.Conv2d(in_channels=hidden_units, \n",
    "                      out_channels=hidden_units,\n",
    "                      kernel_size=3,\n",
    "                      stride=1,\n",
    "                      padding=1),\n",
    "            nn.ReLU(),\n",
    "            nn.MaxPool2d(kernel_size=2,\n",
    "                         stride=2) \n",
    "        )\n",
    "        self.block_2 = nn.Sequential(\n",
    "            nn.Conv2d(hidden_units, hidden_units, 3, padding=1),\n",
    "            nn.ReLU(),\n",
    "            nn.Conv2d(hidden_units, hidden_units, 3, padding=1),\n",
    "            nn.ReLU(),\n",
    "            nn.MaxPool2d(2)\n",
    "        )\n",
    "        self.classifier = nn.Sequential(\n",
    "            nn.Flatten(),\n",
    "            nn.Linear(in_features=hidden_units*7*7, \n",
    "                      out_features=output_shape)\n",
    "        )\n",
    "    \n",
    "    def forward(self, x: torch.Tensor):\n",
    "        x = self.block_1(x)\n",
    "        # print(x.shape)\n",
    "        x = self.block_2(x)\n",
    "        # print(x.shape)\n",
    "        x = self.classifier(x)\n",
    "        # print(x.shape)\n",
    "        return x\n",
    "\n",
    "torch.manual_seed(42)\n",
    "model = CNNModel(input_shape=1, \n",
    "    hidden_units=10, \n",
    "    output_shape=len(class_names)).to(device)\n",
    "model\n"
   ]
  },
  {
   "cell_type": "code",
   "execution_count": 13,
   "metadata": {},
   "outputs": [],
   "source": [
    "loss_fn = nn.CrossEntropyLoss()\n",
    "optimizer = torch.optim.Adam(model.parameters(),lr=0.001)"
   ]
  },
  {
   "cell_type": "code",
   "execution_count": 17,
   "metadata": {},
   "outputs": [
    {
     "name": "stdout",
     "output_type": "stream",
     "text": [
      "Epoch 1:\n",
      "Train Loss: 0.0325 | Train Accuracy: 0.9896\n",
      "Test Loss: 0.0403 | Test Accuracy: 0.9876\n",
      "Epoch 2:\n",
      "Train Loss: 0.0295 | Train Accuracy: 0.9906\n",
      "Test Loss: 0.0401 | Test Accuracy: 0.9874\n",
      "Epoch 3:\n",
      "Train Loss: 0.0271 | Train Accuracy: 0.9912\n",
      "Test Loss: 0.0374 | Test Accuracy: 0.9883\n",
      "Epoch 4:\n",
      "Train Loss: 0.0245 | Train Accuracy: 0.9918\n",
      "Test Loss: 0.0340 | Test Accuracy: 0.9885\n",
      "Epoch 5:\n",
      "Train Loss: 0.0229 | Train Accuracy: 0.9922\n",
      "Test Loss: 0.0452 | Test Accuracy: 0.9871\n",
      "Epoch 6:\n",
      "Train Loss: 0.0219 | Train Accuracy: 0.9926\n",
      "Test Loss: 0.0399 | Test Accuracy: 0.9890\n",
      "Epoch 7:\n",
      "Train Loss: 0.0197 | Train Accuracy: 0.9937\n",
      "Test Loss: 0.0491 | Test Accuracy: 0.9864\n",
      "Epoch 8:\n",
      "Train Loss: 0.0183 | Train Accuracy: 0.9942\n",
      "Test Loss: 0.0386 | Test Accuracy: 0.9892\n",
      "Epoch 9:\n",
      "Train Loss: 0.0177 | Train Accuracy: 0.9939\n",
      "Test Loss: 0.0431 | Test Accuracy: 0.9899\n",
      "Early stopping! No improvement for 5 epochs.\n"
     ]
    }
   ],
   "source": [
    "patience = 5\n",
    "best_validation_loss = float('inf')\n",
    "current_patience = 0\n",
    "epochs = 10\n",
    "\n",
    "for epoch in range(epochs):\n",
    "    model.train()\n",
    "    train_loss, train_acc = 0, 0\n",
    "    for batch, (X, y) in enumerate(train_loader):\n",
    "        X, y = X.to(device), y.to(device)\n",
    "        optimizer.zero_grad()\n",
    "        y_pred = model(X)\n",
    "        loss = loss_fn(y_pred, y)\n",
    "        loss.backward()\n",
    "        optimizer.step()\n",
    "        train_loss += loss.item()\n",
    "        y_pred_class = torch.argmax(torch.softmax(y_pred, dim=1), dim=1)\n",
    "        train_acc += torch.eq(y_pred_class, y).sum().item() / len(y_pred)\n",
    "    train_loss /= len(train_loader)\n",
    "    train_acc /= len(train_loader)\n",
    "\n",
    "    model.eval()\n",
    "    test_loss, test_acc = 0, 0\n",
    "    with torch.inference_mode():\n",
    "        for batch, (X, y) in enumerate(test_loader):\n",
    "            X, y = X.to(device), y.to(device)\n",
    "            test_pred = model(X)\n",
    "            loss = loss_fn(test_pred, y)\n",
    "            test_loss += loss.item()\n",
    "            test_pred_labels = test_pred.argmax(dim=1)\n",
    "            test_acc += (test_pred_labels == y).sum().item() / len(test_pred_labels)\n",
    "        test_loss /= len(test_loader)\n",
    "        test_acc /= len(test_loader)\n",
    "\n",
    "        if test_loss < best_validation_loss:\n",
    "            best_validation_loss = test_loss\n",
    "            current_patience = 0\n",
    "            torch.save(model.state_dict(), 'best_model.pth')\n",
    "        else:\n",
    "            current_patience += 1\n",
    "\n",
    "        if current_patience > patience:\n",
    "            print(\"Early stopping! No improvement for {} epochs.\".format(patience))\n",
    "            break\n",
    "\n",
    "    print(f\"Epoch {epoch+1}:\")\n",
    "    print(f\"Train Loss: {train_loss:.4f} | Train Accuracy: {train_acc:.4f}\")\n",
    "    print(f\"Test Loss: {test_loss:.4f} | Test Accuracy: {test_acc:.4f}\")\n"
   ]
  }
 ],
 "metadata": {
  "kernelspec": {
   "display_name": "Python 3",
   "language": "python",
   "name": "python3"
  },
  "language_info": {
   "codemirror_mode": {
    "name": "ipython",
    "version": 3
   },
   "file_extension": ".py",
   "mimetype": "text/x-python",
   "name": "python",
   "nbconvert_exporter": "python",
   "pygments_lexer": "ipython3",
   "version": "3.11.8"
  }
 },
 "nbformat": 4,
 "nbformat_minor": 2
}
