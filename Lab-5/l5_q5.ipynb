{
 "cells": [
  {
   "cell_type": "markdown",
   "metadata": {},
   "source": [
    "Implement convolution operation for a sample image of shape (H=6, W=6, C=1) with a random kernel of size (3,3) using torch.nn.functional.conv2d.What is the dimension of the output image?"
   ]
  },
  {
   "cell_type": "code",
   "execution_count": 26,
   "metadata": {},
   "outputs": [
    {
     "name": "stdout",
     "output_type": "stream",
     "text": [
      "image= tensor([[0.3878, 0.1921, 0.4146, 0.4223, 0.0605, 0.7167],\n",
      "        [0.4007, 0.3666, 0.3949, 0.4807, 0.3558, 0.5593],\n",
      "        [0.0704, 0.2581, 0.4765, 0.9652, 0.6075, 0.4699],\n",
      "        [0.3011, 0.9825, 0.2069, 0.1885, 0.3266, 0.5100],\n",
      "        [0.3213, 0.7971, 0.2004, 0.6795, 0.0694, 0.4432],\n",
      "        [0.6669, 0.8958, 0.9921, 0.2392, 0.9951, 0.6475]])\n",
      "image.shape= torch.Size([1, 6, 6])\n",
      "image.shape= torch.Size([1, 1, 6, 6])\n",
      "image= tensor([[[[0.3878, 0.1921, 0.4146, 0.4223, 0.0605, 0.7167],\n",
      "          [0.4007, 0.3666, 0.3949, 0.4807, 0.3558, 0.5593],\n",
      "          [0.0704, 0.2581, 0.4765, 0.9652, 0.6075, 0.4699],\n",
      "          [0.3011, 0.9825, 0.2069, 0.1885, 0.3266, 0.5100],\n",
      "          [0.3213, 0.7971, 0.2004, 0.6795, 0.0694, 0.4432],\n",
      "          [0.6669, 0.8958, 0.9921, 0.2392, 0.9951, 0.6475]]]])\n",
      "kernel= tensor([[1., 1., 1.],\n",
      "        [1., 1., 1.],\n",
      "        [1., 1., 1.]])\n",
      "outimage= tensor([[[[2.9617, 3.9710, 4.1781, 4.6381],\n",
      "          [3.4577, 4.3199, 4.0026, 4.4635],\n",
      "          [3.6142, 4.7546, 3.7203, 4.2597],\n",
      "          [5.3640, 5.1818, 3.8976, 4.0989]]]])\n"
     ]
    }
   ],
   "source": [
    "import torch\n",
    "import torch.nn.functional as F\n",
    "image = torch.rand(6,6)\n",
    "print(\"image=\", image)\n",
    "image = image.unsqueeze(dim=0)\n",
    "print(\"image.shape=\", image.shape)\n",
    "image = image.unsqueeze(dim=0)\n",
    "print(\"image.shape=\", image.shape)\n",
    "print(\"image=\", image)\n",
    "kernel = torch.ones(3,3)\n",
    "print(\"kernel=\", kernel)\n",
    "kernel = kernel.unsqueeze(dim=0)\n",
    "kernel = kernel.unsqueeze(dim=0)\n",
    "outimage = F.conv2d(image, kernel, stride=1, padding=0)\n",
    "print(\"outimage=\", outimage)"
   ]
  },
  {
   "cell_type": "markdown",
   "metadata": {},
   "source": [
    "Apply torch.nn.Conv2d to the input image of Qn 1 with out-channel=3 and observe the output. Implement the equivalent of torch.nn.Conv2d using the torch.nn.functional.conv2D to get the same output. You may ignore bias."
   ]
  },
  {
   "cell_type": "code",
   "execution_count": 27,
   "metadata": {},
   "outputs": [
    {
     "name": "stdout",
     "output_type": "stream",
     "text": [
      "Input image:\n",
      " tensor([[0.1160, 0.4092, 0.6430, 0.9307, 0.2976, 0.6821],\n",
      "        [0.2688, 0.6244, 0.5928, 0.3856, 0.8057, 0.0492],\n",
      "        [0.2444, 0.8191, 0.3348, 0.4925, 0.6970, 0.9726],\n",
      "        [0.3681, 0.4476, 0.7102, 0.8350, 0.2419, 0.6291],\n",
      "        [0.0305, 0.7721, 0.0202, 0.2907, 0.1097, 0.9246],\n",
      "        [0.2033, 0.4756, 0.0811, 0.8289, 0.0995, 0.6194]])\n",
      "Input image shape: torch.Size([1, 1, 6, 6])\n",
      "Output image using torch.nn.Conv2d:\n",
      " tensor([[[[ 0.3100,  0.1617,  0.4530,  0.0358],\n",
      "          [ 0.2602,  0.2092,  0.2812,  0.5752],\n",
      "          [ 0.5466,  0.4150,  0.2856,  0.1059],\n",
      "          [ 0.2414,  0.0207,  0.3948,  0.2317]],\n",
      "\n",
      "         [[-0.4779, -0.6338, -0.6533, -0.4985],\n",
      "          [-0.4468, -0.5800, -0.6721, -0.7377],\n",
      "          [-0.5830, -0.8751, -0.6299, -0.5840],\n",
      "          [-0.4601, -0.5056, -0.4611, -0.7299]],\n",
      "\n",
      "         [[ 0.2823,  0.3529,  0.7076,  0.4363],\n",
      "          [ 0.3773,  0.6264,  0.4059,  0.7639],\n",
      "          [ 0.3598,  0.4860,  0.0270,  0.4931],\n",
      "          [ 0.0729,  0.5077,  0.4158,  0.7072]]]],\n",
      "       grad_fn=<ConvolutionBackward0>)\n",
      "Output image using torch.nn.functional.conv2d:\n",
      " tensor([[[[4.0527, 5.2322, 5.1797, 5.3128],\n",
      "          [4.4103, 5.2420, 5.0955, 5.1085],\n",
      "          [3.7471, 4.7222, 3.7320, 5.1930],\n",
      "          [3.1088, 4.4614, 3.2171, 4.5788]]]])\n",
      "Outputs are equal: False\n"
     ]
    }
   ],
   "source": [
    "import torch\n",
    "import torch.nn.functional as F\n",
    "\n",
    "image = torch.rand(6, 6)\n",
    "print(\"Input image:\\n\", image)\n",
    "image = image.unsqueeze(dim=0).unsqueeze(dim=0)\n",
    "print(\"Input image shape:\", image.shape)\n",
    "\n",
    "conv_layer = torch.nn.Conv2d(in_channels=1, out_channels=3, kernel_size=3)\n",
    "\n",
    "out_image_conv2d = conv_layer(image)\n",
    "print(\"Output image using torch.nn.Conv2d:\\n\", out_image_conv2d)\n",
    "\n",
    "kernel = torch.ones(3, 3)\n",
    "\n",
    "kernel = kernel.unsqueeze(dim=0).unsqueeze(dim=0)\n",
    "\n",
    "out_image_conv2d_functional = F.conv2d(image, kernel, stride=1, padding=0)\n",
    "print(\"Output image using torch.nn.functional.conv2d:\\n\", out_image_conv2d_functional)\n",
    "\n",
    "print(\"Outputs are equal:\", torch.allclose(out_image_conv2d, out_image_conv2d_functional))\n"
   ]
  },
  {
   "cell_type": "markdown",
   "metadata": {},
   "source": [
    "3. Implement CNN for classifying digits in MNIST dataset using PyTorch. Display the classification accuracy in the form of a Confusion matrix. Verify the number of learnable parameters in the model."
   ]
  },
  {
   "cell_type": "code",
   "execution_count": 1,
   "metadata": {},
   "outputs": [],
   "source": [
    "import torch\n",
    "import torchvision\n",
    "from torch import nn\n",
    "from torchvision import datasets,transforms\n",
    "from torchvision.transforms import ToTensor\n",
    "from torch.utils.data import Dataset,DataLoader\n",
    "import matplotlib.pyplot as plt "
   ]
  },
  {
   "cell_type": "code",
   "execution_count": 2,
   "metadata": {},
   "outputs": [],
   "source": [
    "train_data = datasets.MNIST(root=\"./content\",download=True,train=True,transform=ToTensor(),target_transform=None)\n",
    "test_data = datasets.MNIST(root=\"./content\",download=True,train=False,transform=ToTensor())\n",
    "train_loader = DataLoader(dataset=train_data,batch_size=32,shuffle=True)\n",
    "test_loader = DataLoader(dataset=test_data,batch_size=32)"
   ]
  },
  {
   "cell_type": "code",
   "execution_count": 3,
   "metadata": {},
   "outputs": [
    {
     "data": {
      "text/plain": [
       "['0 - zero',\n",
       " '1 - one',\n",
       " '2 - two',\n",
       " '3 - three',\n",
       " '4 - four',\n",
       " '5 - five',\n",
       " '6 - six',\n",
       " '7 - seven',\n",
       " '8 - eight',\n",
       " '9 - nine']"
      ]
     },
     "execution_count": 3,
     "metadata": {},
     "output_type": "execute_result"
    }
   ],
   "source": [
    "class_names = train_data.classes\n",
    "class_names"
   ]
  },
  {
   "cell_type": "code",
   "execution_count": 4,
   "metadata": {},
   "outputs": [],
   "source": [
    "train_features_batch,train_labels_batch = next(iter(train_loader))"
   ]
  },
  {
   "cell_type": "code",
   "execution_count": 5,
   "metadata": {},
   "outputs": [
    {
     "data": {
      "text/plain": [
       "'cuda'"
      ]
     },
     "execution_count": 5,
     "metadata": {},
     "output_type": "execute_result"
    }
   ],
   "source": [
    "device = \"cuda\" if torch.cuda.is_available() else \"cpu\"\n",
    "device "
   ]
  },
  {
   "cell_type": "code",
   "execution_count": 6,
   "metadata": {},
   "outputs": [
    {
     "data": {
      "text/plain": [
       "CNNclf(\n",
       "  (net): Sequential(\n",
       "    (0): Conv2d(1, 64, kernel_size=(3, 3), stride=(1, 1))\n",
       "    (1): ReLU()\n",
       "    (2): MaxPool2d(kernel_size=(2, 2), stride=2, padding=0, dilation=1, ceil_mode=False)\n",
       "    (3): Conv2d(64, 128, kernel_size=(3, 3), stride=(1, 1))\n",
       "    (4): ReLU()\n",
       "    (5): MaxPool2d(kernel_size=(2, 2), stride=3, padding=0, dilation=1, ceil_mode=False)\n",
       "    (6): Conv2d(128, 64, kernel_size=(3, 3), stride=(1, 1))\n",
       "    (7): ReLU()\n",
       "    (8): MaxPool2d(kernel_size=(2, 2), stride=2, padding=0, dilation=1, ceil_mode=False)\n",
       "  )\n",
       "  (clf): Sequential(\n",
       "    (0): Flatten(start_dim=1, end_dim=-1)\n",
       "    (1): Linear(in_features=64, out_features=20, bias=True)\n",
       "    (2): ReLU()\n",
       "    (3): Linear(in_features=20, out_features=10, bias=True)\n",
       "  )\n",
       ")"
      ]
     },
     "execution_count": 6,
     "metadata": {},
     "output_type": "execute_result"
    }
   ],
   "source": [
    "class CNNclf(nn.Module):\n",
    "    def __init__(self):\n",
    "        super().__init__()\n",
    "        self.net = nn.Sequential(\n",
    "            nn.Conv2d(in_channels=1, out_channels=64, kernel_size=3),\n",
    "            nn.ReLU(),\n",
    "            nn.MaxPool2d((2, 2), stride=2),\n",
    "            nn.Conv2d(in_channels=64, out_channels=128, kernel_size=3),\n",
    "            nn.ReLU(),\n",
    "            nn.MaxPool2d((2, 2), stride=3),\n",
    "            nn.Conv2d(in_channels=128, out_channels=64, kernel_size=3),\n",
    "            nn.ReLU(),\n",
    "            nn.MaxPool2d((2, 2), stride=2)\n",
    "        )\n",
    "\n",
    "        self.clf = nn.Sequential(\n",
    "            nn.Flatten(),\n",
    "            nn.Linear(64,20,bias=True),\n",
    "            nn.ReLU(),\n",
    "            nn.Linear(20,10,bias=True)\n",
    "        )\n",
    "\n",
    "    def forward(self,x):\n",
    "        x = self.net(x)\n",
    "        x = self.clf(x)\n",
    "        return x\n",
    "    \n",
    "torch.manual_seed(42)\n",
    "model = CNNclf().to(device)\n",
    "model"
   ]
  },
  {
   "cell_type": "code",
   "execution_count": 7,
   "metadata": {},
   "outputs": [
    {
     "data": {
      "text/plain": [
       "<matplotlib.image.AxesImage at 0x16a238ffa90>"
      ]
     },
     "execution_count": 7,
     "metadata": {},
     "output_type": "execute_result"
    },
    {
     "data": {
      "image/png": "[encoded data removed]",
      "text/plain": [
       "<Figure size 640x480 with 1 Axes>"
      ]
     },
     "metadata": {},
     "output_type": "display_data"
    }
   ],
   "source": [
    "torch.manual_seed(42)\n",
    "rand_idx = torch.randint(0,len(train_features_batch),size=[1]).item()\n",
    "img,label = train_features_batch[rand_idx],train_labels_batch[rand_idx]\n",
    "plt.imshow(img.squeeze(),cmap='gray')\n"
   ]
  },
  {
   "cell_type": "code",
   "execution_count": 8,
   "metadata": {},
   "outputs": [],
   "source": [
    "loss_fn = nn.CrossEntropyLoss()\n",
    "optimizer = torch.optim.Adam(params=model.parameters(),lr=0.001)"
   ]
  },
  {
   "cell_type": "code",
   "execution_count": 9,
   "metadata": {},
   "outputs": [],
   "source": [
    "def accuracy_fn(y,y_pred):\n",
    "    correct = torch.eq(y,y_pred).sum().item()\n",
    "    acc = (correct/len(y_pred))*100\n",
    "    return acc"
   ]
  },
  {
   "cell_type": "code",
   "execution_count": 10,
   "metadata": {},
   "outputs": [],
   "source": [
    "def train_step(model,device,optimizer,accuracy_fn,loss_fn,data_loader):\n",
    "    train_loss,train_acc = 0,0\n",
    "    model.to(device)\n",
    "    for batch,(X,y) in enumerate(data_loader):\n",
    "        X,y = X.to(device),y.to(device)\n",
    "        y_pred = model(X)\n",
    "        loss = loss_fn(y_pred,y)\n",
    "        train_acc += accuracy_fn(y,y_pred.argmax(dim=1))\n",
    "        train_loss += loss\n",
    "        optimizer.zero_grad()\n",
    "        loss.backward()\n",
    "        optimizer.step()\n",
    "    train_loss /= len(data_loader)\n",
    "    train_acc /= len(data_loader)\n",
    "    print(f\"Train loss: {train_loss:.5f}|Train accuracy: {train_acc:.5f}\")\n",
    "\n",
    "def test_step(model,device,optimizer,accuracy_fn,loss_fn,data_loader):\n",
    "    test_loss,test_acc = 0,0\n",
    "    with torch.inference_mode():\n",
    "        for X,y in data_loader:\n",
    "            X,y = X.to(device),y.to(device)\n",
    "            y_pred = model(X)\n",
    "            test_loss += loss_fn(y_pred,y)\n",
    "            test_acc += accuracy_fn(y,y_pred.argmax(dim=1))\n",
    "        test_acc /= len(data_loader)\n",
    "        test_loss /= len(data_loader)\n",
    "    print(f\"Train loss: {test_loss:.5f}|Train accuracy: {test_acc:.5f}\")"
   ]
  },
  {
   "cell_type": "code",
   "execution_count": 11,
   "metadata": {},
   "outputs": [
    {
     "name": "stdout",
     "output_type": "stream",
     "text": [
      "Epoch: 0------\n",
      "Train loss: 0.24413|Train accuracy: 92.19500\n",
      "Train loss: 0.11918|Train accuracy: 96.20607\n",
      "Epoch: 1------\n",
      "Train loss: 0.07183|Train accuracy: 97.76000\n",
      "Train loss: 0.06798|Train accuracy: 97.70367\n",
      "Epoch: 2------\n",
      "Train loss: 0.05131|Train accuracy: 98.44333\n",
      "Train loss: 0.04685|Train accuracy: 98.54233\n"
     ]
    }
   ],
   "source": [
    "torch.manual_seed(42)\n",
    "epochs = 3 \n",
    "for epoch in range(epochs):\n",
    "    print(f\"Epoch: {epoch}------\")\n",
    "    train_step(model,device,optimizer,accuracy_fn,loss_fn,train_loader)\n",
    "    test_step(model,device,optimizer,accuracy_fn,loss_fn,test_loader)"
   ]
  },
  {
   "cell_type": "code",
   "execution_count": 12,
   "metadata": {},
   "outputs": [],
   "source": [
    "def make_predictions(model,data,device):\n",
    "    pred_probs=[]\n",
    "    model.eval()\n",
    "    with torch.inference_mode():\n",
    "        for sample in data:\n",
    "            sample = torch.unsqueeze(sample,dim=0).to(device)\n",
    "            pred_logit = model(sample)\n",
    "            pred_prob = torch.softmax(pred_logit.squeeze(),dim=0)\n",
    "            pred_probs.append(pred_prob.cpu())\n",
    "    return torch.stack(pred_probs)"
   ]
  },
  {
   "cell_type": "code",
   "execution_count": 13,
   "metadata": {},
   "outputs": [
    {
     "name": "stdout",
     "output_type": "stream",
     "text": [
      "Test sample image shape torch.Size([1, 28, 28])\n",
      " Test sample label: 8 (8 - eight)\n"
     ]
    }
   ],
   "source": [
    "import random\n",
    "random.seed(1234)\n",
    "test_samples,test_labels = [],[]\n",
    "for sample,label in random.sample(list(test_data),k=9):\n",
    "    test_samples.append(sample)\n",
    "    test_labels.append(label)\n",
    "print(f\"Test sample image shape {test_samples[0].shape}\\n Test sample label: {test_labels[0]} ({class_names[test_labels[0]]})\")"
   ]
  },
  {
   "cell_type": "code",
   "execution_count": 14,
   "metadata": {},
   "outputs": [
    {
     "data": {
      "text/plain": [
       "tensor([[2.0824e-09, 7.4282e-12, 3.9569e-07, 3.6540e-04, 1.9473e-11, 5.5552e-07,\n",
       "         4.5129e-14, 7.7731e-10, 9.9963e-01, 2.0370e-06],\n",
       "        [4.2723e-12, 1.3968e-09, 3.9905e-09, 1.9501e-08, 3.8899e-10, 4.5582e-06,\n",
       "         7.8921e-11, 1.2321e-10, 1.0000e+00, 2.1114e-09]])"
      ]
     },
     "execution_count": 14,
     "metadata": {},
     "output_type": "execute_result"
    }
   ],
   "source": [
    "pred_probs = make_predictions(model,test_samples,device)\n",
    "pred_probs[:2]"
   ]
  },
  {
   "cell_type": "code",
   "execution_count": 15,
   "metadata": {},
   "outputs": [
    {
     "data": {
      "text/plain": [
       "tensor([8, 8, 7, 2, 9, 8, 2, 3, 6])"
      ]
     },
     "execution_count": 15,
     "metadata": {},
     "output_type": "execute_result"
    }
   ],
   "source": [
    "pred_classes = pred_probs.argmax(dim=1)\n",
    "pred_classes"
   ]
  },
  {
   "cell_type": "code",
   "execution_count": 16,
   "metadata": {},
   "outputs": [
    {
     "data": {
      "text/plain": [
       "(tensor([8, 8, 7, 2, 9, 8, 2, 3, 6]), [8, 8, 7, 2, 9, 8, 2, 3, 6])"
      ]
     },
     "execution_count": 16,
     "metadata": {},
     "output_type": "execute_result"
    }
   ],
   "source": [
    "pred_classes,test_labels"
   ]
  },
  {
   "cell_type": "code",
   "execution_count": 17,
   "metadata": {},
   "outputs": [
    {
     "data": {
      "image/png": "[encoded data removed]",
      "text/plain": [
       "<Figure size 900x900 with 9 Axes>"
      ]
     },
     "metadata": {},
     "output_type": "display_data"
    }
   ],
   "source": [
    "plt.figure(figsize=(9,9))\n",
    "rows,cols = 3,3\n",
    "for i,sample in enumerate(test_samples):\n",
    "    plt.subplot(rows,cols,i+1)\n",
    "    plt.imshow(sample.squeeze(),cmap='gray')\n",
    "    pred_label = class_names[pred_classes[i]]\n",
    "    truth_label = class_names[test_labels[i]]\n",
    "    title_text = f\"Pred: {pred_label} Truth: {truth_label}\"\n",
    "    if pred_label == truth_label:\n",
    "      plt.title(title_text, fontsize=10, c=\"g\") # green text if correct\n",
    "    else:\n",
    "      plt.title(title_text, fontsize=10, c=\"r\") # red text if wrong\n",
    "    plt.axis(False)"
   ]
  },
  {
   "cell_type": "code",
   "execution_count": 18,
   "metadata": {},
   "outputs": [],
   "source": [
    "y_preds = []\n",
    "model.eval()\n",
    "with torch.inference_mode():\n",
    "    for X,y in test_loader:\n",
    "        X,y = X.to(device),y.to(device)\n",
    "        y_logit = model(X)\n",
    "        y_pred = torch.softmax(y_logit,dim=1).argmax(dim=1)\n",
    "        y_preds.append(y_pred.cpu())\n",
    "y_preds_tensor = torch.cat(y_preds)"
   ]
  },
  {
   "cell_type": "code",
   "execution_count": 19,
   "metadata": {},
   "outputs": [
    {
     "data": {
      "image/png": "[encoded data removed]",
      "text/plain": [
       "<Figure size 1000x700 with 1 Axes>"
      ]
     },
     "metadata": {},
     "output_type": "display_data"
    }
   ],
   "source": [
    "import torchmetrics \n",
    "import mlxtend\n",
    "from torchmetrics import ConfusionMatrix\n",
    "from mlxtend.plotting import plot_confusion_matrix\n",
    "confmat = ConfusionMatrix(num_classes=len(class_names),task='multiclass')\n",
    "confmat_tensor = confmat(preds=y_preds_tensor,target=test_data.targets)\n",
    "\n",
    "fig, ax = plot_confusion_matrix(\n",
    "    conf_mat=confmat_tensor.numpy(), # matplotlib likes working with NumPy \n",
    "    class_names=class_names, # turn the row and column labels into class names\n",
    "    figsize=(10, 7)\n",
    ")"
   ]
  },
  {
   "cell_type": "code",
   "execution_count": 20,
   "metadata": {},
   "outputs": [],
   "source": [
    "torch.save(model,'./ModelFiles/model.pt')"
   ]
  },
  {
   "cell_type": "code",
   "execution_count": 21,
   "metadata": {},
   "outputs": [
    {
     "name": "stdout",
     "output_type": "stream",
     "text": [
      "Total no of learnable parameter: 149798\n"
     ]
    }
   ],
   "source": [
    "total_params = sum(p.numel() for p in model.parameters() if p.requires_grad)\n",
    "print(f\"Total no of learnable parameter: {total_params}\")"
   ]
  },
  {
   "cell_type": "markdown",
   "metadata": {},
   "source": [
    "4. Modify CNN of Qn. 3 to reduce the number of parameters in the network. \n",
    "Draw a plot of percentage drop in parameters vs accuracy."
   ]
  },
  {
   "cell_type": "code",
   "execution_count": 25,
   "metadata": {},
   "outputs": [
    {
     "name": "stdout",
     "output_type": "stream",
     "text": [
      "Downloading http://yann.lecun.com/exdb/mnist/train-images-idx3-ubyte.gz\n",
      "Downloading http://yann.lecun.com/exdb/mnist/train-images-idx3-ubyte.gz to ./data\\MNIST\\raw\\train-images-idx3-ubyte.gz\n"
     ]
    },
    {
     "name": "stderr",
     "output_type": "stream",
     "text": [
      "100%|██████████| 9912422/9912422 [00:05<00:00, 1699696.27it/s]\n"
     ]
    },
    {
     "name": "stdout",
     "output_type": "stream",
     "text": [
      "Extracting ./data\\MNIST\\raw\\train-images-idx3-ubyte.gz to ./data\\MNIST\\raw\n",
      "\n",
      "Downloading http://yann.lecun.com/exdb/mnist/train-labels-idx1-ubyte.gz\n",
      "Downloading http://yann.lecun.com/exdb/mnist/train-labels-idx1-ubyte.gz to ./data\\MNIST\\raw\\train-labels-idx1-ubyte.gz\n"
     ]
    },
    {
     "name": "stderr",
     "output_type": "stream",
     "text": [
      "100%|██████████| 28881/28881 [00:00<?, ?it/s]\n"
     ]
    },
    {
     "name": "stdout",
     "output_type": "stream",
     "text": [
      "Extracting ./data\\MNIST\\raw\\train-labels-idx1-ubyte.gz to ./data\\MNIST\\raw\n",
      "\n",
      "Downloading http://yann.lecun.com/exdb/mnist/t10k-images-idx3-ubyte.gz\n",
      "Downloading http://yann.lecun.com/exdb/mnist/t10k-images-idx3-ubyte.gz to ./data\\MNIST\\raw\\t10k-images-idx3-ubyte.gz\n"
     ]
    },
    {
     "name": "stderr",
     "output_type": "stream",
     "text": [
      "100%|██████████| 1648877/1648877 [00:01<00:00, 911434.29it/s] \n"
     ]
    },
    {
     "name": "stdout",
     "output_type": "stream",
     "text": [
      "Extracting ./data\\MNIST\\raw\\t10k-images-idx3-ubyte.gz to ./data\\MNIST\\raw\n",
      "\n",
      "Downloading http://yann.lecun.com/exdb/mnist/t10k-labels-idx1-ubyte.gz\n",
      "Downloading http://yann.lecun.com/exdb/mnist/t10k-labels-idx1-ubyte.gz to ./data\\MNIST\\raw\\t10k-labels-idx1-ubyte.gz\n"
     ]
    },
    {
     "name": "stderr",
     "output_type": "stream",
     "text": [
      "100%|██████████| 4542/4542 [00:00<?, ?it/s]\n"
     ]
    },
    {
     "name": "stdout",
     "output_type": "stream",
     "text": [
      "Extracting ./data\\MNIST\\raw\\t10k-labels-idx1-ubyte.gz to ./data\\MNIST\\raw\n",
      "\n",
      "Original Model - Epoch [1/5], Step [100/600], Loss: 0.6329\n",
      "Original Model - Epoch [1/5], Step [200/600], Loss: 0.2776\n",
      "Original Model - Epoch [1/5], Step [300/600], Loss: 0.2347\n",
      "Original Model - Epoch [1/5], Step [400/600], Loss: 0.1215\n",
      "Original Model - Epoch [1/5], Step [500/600], Loss: 0.0928\n",
      "Original Model - Epoch [1/5], Step [600/600], Loss: 0.1301\n",
      "Original Model - Epoch [2/5], Step [100/600], Loss: 0.3557\n",
      "Original Model - Epoch [2/5], Step [200/600], Loss: 0.0615\n",
      "Original Model - Epoch [2/5], Step [300/600], Loss: 0.0331\n",
      "Original Model - Epoch [2/5], Step [400/600], Loss: 0.0208\n",
      "Original Model - Epoch [2/5], Step [500/600], Loss: 0.0705\n",
      "Original Model - Epoch [2/5], Step [600/600], Loss: 0.1216\n",
      "Original Model - Epoch [3/5], Step [100/600], Loss: 0.0502\n",
      "Original Model - Epoch [3/5], Step [200/600], Loss: 0.0634\n",
      "Original Model - Epoch [3/5], Step [300/600], Loss: 0.1158\n",
      "Original Model - Epoch [3/5], Step [400/600], Loss: 0.0326\n",
      "Original Model - Epoch [3/5], Step [500/600], Loss: 0.0585\n",
      "Original Model - Epoch [3/5], Step [600/600], Loss: 0.0301\n",
      "Original Model - Epoch [4/5], Step [100/600], Loss: 0.1442\n",
      "Original Model - Epoch [4/5], Step [200/600], Loss: 0.0239\n",
      "Original Model - Epoch [4/5], Step [300/600], Loss: 0.0516\n",
      "Original Model - Epoch [4/5], Step [400/600], Loss: 0.0666\n",
      "Original Model - Epoch [4/5], Step [500/600], Loss: 0.0236\n",
      "Original Model - Epoch [4/5], Step [600/600], Loss: 0.0977\n",
      "Original Model - Epoch [5/5], Step [100/600], Loss: 0.0102\n",
      "Original Model - Epoch [5/5], Step [200/600], Loss: 0.0224\n",
      "Original Model - Epoch [5/5], Step [300/600], Loss: 0.0091\n",
      "Original Model - Epoch [5/5], Step [400/600], Loss: 0.0599\n",
      "Original Model - Epoch [5/5], Step [500/600], Loss: 0.0191\n",
      "Original Model - Epoch [5/5], Step [600/600], Loss: 0.0035\n",
      "Reduced Model - Epoch [1/5], Step [100/600], Loss: 0.5220\n",
      "Reduced Model - Epoch [1/5], Step [200/600], Loss: 0.2266\n",
      "Reduced Model - Epoch [1/5], Step [300/600], Loss: 0.1397\n",
      "Reduced Model - Epoch [1/5], Step [400/600], Loss: 0.1261\n",
      "Reduced Model - Epoch [1/5], Step [500/600], Loss: 0.1408\n",
      "Reduced Model - Epoch [1/5], Step [600/600], Loss: 0.1370\n",
      "Reduced Model - Epoch [2/5], Step [100/600], Loss: 0.0862\n",
      "Reduced Model - Epoch [2/5], Step [200/600], Loss: 0.1501\n",
      "Reduced Model - Epoch [2/5], Step [300/600], Loss: 0.1156\n",
      "Reduced Model - Epoch [2/5], Step [400/600], Loss: 0.0235\n",
      "Reduced Model - Epoch [2/5], Step [500/600], Loss: 0.0400\n",
      "Reduced Model - Epoch [2/5], Step [600/600], Loss: 0.0961\n",
      "Reduced Model - Epoch [3/5], Step [100/600], Loss: 0.0838\n",
      "Reduced Model - Epoch [3/5], Step [200/600], Loss: 0.0310\n",
      "Reduced Model - Epoch [3/5], Step [300/600], Loss: 0.1221\n",
      "Reduced Model - Epoch [3/5], Step [400/600], Loss: 0.0637\n",
      "Reduced Model - Epoch [3/5], Step [500/600], Loss: 0.0325\n",
      "Reduced Model - Epoch [3/5], Step [600/600], Loss: 0.0653\n",
      "Reduced Model - Epoch [4/5], Step [100/600], Loss: 0.0465\n",
      "Reduced Model - Epoch [4/5], Step [200/600], Loss: 0.1155\n",
      "Reduced Model - Epoch [4/5], Step [300/600], Loss: 0.0763\n",
      "Reduced Model - Epoch [4/5], Step [400/600], Loss: 0.0199\n",
      "Reduced Model - Epoch [4/5], Step [500/600], Loss: 0.0569\n",
      "Reduced Model - Epoch [4/5], Step [600/600], Loss: 0.0430\n",
      "Reduced Model - Epoch [5/5], Step [100/600], Loss: 0.0405\n",
      "Reduced Model - Epoch [5/5], Step [200/600], Loss: 0.0364\n",
      "Reduced Model - Epoch [5/5], Step [300/600], Loss: 0.0373\n",
      "Reduced Model - Epoch [5/5], Step [400/600], Loss: 0.0311\n",
      "Reduced Model - Epoch [5/5], Step [500/600], Loss: 0.0522\n",
      "Reduced Model - Epoch [5/5], Step [600/600], Loss: 0.0435\n",
      "Original Model - Test Accuracy: 98.60 %\n",
      "Reduced Model - Test Accuracy: 98.15 %\n"
     ]
    },
    {
     "data": {
      "image/png": "[encoded data removed]",
      "text/plain": [
       "<Figure size 800x600 with 1 Axes>"
      ]
     },
     "metadata": {},
     "output_type": "display_data"
    }
   ],
   "source": [
    "import torch\n",
    "import torch.nn as nn\n",
    "import torchvision\n",
    "import torchvision.transforms as transforms\n",
    "import matplotlib.pyplot as plt\n",
    "from sklearn.metrics import confusion_matrix\n",
    "\n",
    "# Define the original CNN classifier\n",
    "class OriginalCNNClassifier(nn.Module):\n",
    "    def __init__(self):\n",
    "        super().__init__()\n",
    "        self.net = nn.Sequential(\n",
    "            nn.Conv2d(1, 64, kernel_size=3),  \n",
    "            nn.ReLU(),\n",
    "            nn.MaxPool2d((2, 2), stride=2),\n",
    "            nn.Conv2d(64, 128, kernel_size=3),  \n",
    "            nn.ReLU(),\n",
    "            nn.MaxPool2d((2, 2), stride=2),\n",
    "            nn.Conv2d(128, 64, kernel_size=3),  \n",
    "            nn.ReLU(),\n",
    "            nn.MaxPool2d((2, 2), stride=2)\n",
    "        )\n",
    "\n",
    "        self.clf_head = nn.Sequential(nn.Linear(64, 20), \n",
    "                                      nn.ReLU(),\n",
    "                                      nn.Linear(20, 10))\n",
    "\n",
    "    def forward(self, x):\n",
    "        features = self.net(x)\n",
    "        return self.clf_head(features.view(x.size(0), -1))\n",
    "\n",
    "# Define the reduced CNN classifier\n",
    "class ReducedCNNClassifier(nn.Module):\n",
    "    def __init__(self):\n",
    "        super().__init__()\n",
    "        self.net = nn.Sequential(\n",
    "            nn.Conv2d(1, 32, kernel_size=3),  \n",
    "            nn.ReLU(),\n",
    "            nn.MaxPool2d((2, 2), stride=2),\n",
    "            nn.Conv2d(32, 64, kernel_size=3),  \n",
    "            nn.ReLU(),\n",
    "            nn.MaxPool2d((2, 2), stride=2),\n",
    "            nn.Conv2d(64, 32, kernel_size=3),  \n",
    "            nn.ReLU(),\n",
    "            nn.MaxPool2d((2, 2), stride=2)\n",
    "        )\n",
    "\n",
    "        self.clf_head = nn.Sequential(nn.Linear(32, 20), \n",
    "                                      nn.ReLU(),\n",
    "                                      nn.Linear(20, 10))\n",
    "\n",
    "    def forward(self, x):\n",
    "        features = self.net(x)\n",
    "        return self.clf_head(features.view(x.size(0), -1))\n",
    "\n",
    "# Load MNIST dataset\n",
    "transform = transforms.Compose([\n",
    "    transforms.ToTensor(),\n",
    "    transforms.Normalize((0.5,), (0.5,))\n",
    "])\n",
    "\n",
    "train_dataset = torchvision.datasets.MNIST(root='./data', train=True, transform=transform, download=True)\n",
    "test_dataset = torchvision.datasets.MNIST(root='./data', train=False, transform=transform, download=True)\n",
    "\n",
    "batch_size = 100\n",
    "train_loader = torch.utils.data.DataLoader(dataset=train_dataset, batch_size=batch_size, shuffle=True)\n",
    "test_loader = torch.utils.data.DataLoader(dataset=test_dataset, batch_size=batch_size, shuffle=False)\n",
    "\n",
    "# Initialize original and reduced models\n",
    "original_model = OriginalCNNClassifier()\n",
    "reduced_model = ReducedCNNClassifier()\n",
    "\n",
    "# Train original model\n",
    "original_criterion = nn.CrossEntropyLoss()\n",
    "original_optimizer = torch.optim.Adam(original_model.parameters(), lr=0.001)\n",
    "\n",
    "num_epochs = 5\n",
    "total_step = len(train_loader)\n",
    "for epoch in range(num_epochs):\n",
    "    for i, (images, labels) in enumerate(train_loader):\n",
    "        outputs = original_model(images)\n",
    "        loss = original_criterion(outputs, labels)\n",
    "        original_optimizer.zero_grad()\n",
    "        loss.backward()\n",
    "        original_optimizer.step()\n",
    "\n",
    "        if (i + 1) % 100 == 0:\n",
    "            print('Original Model - Epoch [{}/{}], Step [{}/{}], Loss: {:.4f}'\n",
    "                  .format(epoch + 1, num_epochs, i + 1, total_step, loss.item()))\n",
    "\n",
    "# Train reduced model\n",
    "reduced_criterion = nn.CrossEntropyLoss()\n",
    "reduced_optimizer = torch.optim.Adam(reduced_model.parameters(), lr=0.001)\n",
    "\n",
    "for epoch in range(num_epochs):\n",
    "    for i, (images, labels) in enumerate(train_loader):\n",
    "        outputs = reduced_model(images)\n",
    "        loss = reduced_criterion(outputs, labels)\n",
    "        reduced_optimizer.zero_grad()\n",
    "        loss.backward()\n",
    "        reduced_optimizer.step()\n",
    "\n",
    "        if (i + 1) % 100 == 0:\n",
    "            print('Reduced Model - Epoch [{}/{}], Step [{}/{}], Loss: {:.4f}'\n",
    "                  .format(epoch + 1, num_epochs, i + 1, total_step, loss.item()))\n",
    "\n",
    "# Evaluate original model\n",
    "with torch.no_grad():\n",
    "    original_correct = 0\n",
    "    original_total = 0\n",
    "    for images, labels in test_loader:\n",
    "        outputs = original_model(images)\n",
    "        _, predicted = torch.max(outputs.data, 1)\n",
    "        original_total += labels.size(0)\n",
    "        original_correct += (predicted == labels).sum().item()\n",
    "\n",
    "original_accuracy = 100 * original_correct / original_total\n",
    "print('Original Model - Test Accuracy: {:.2f} %'.format(original_accuracy))\n",
    "\n",
    "# Evaluate reduced model\n",
    "with torch.no_grad():\n",
    "    reduced_correct = 0\n",
    "    reduced_total = 0\n",
    "    for images, labels in test_loader:\n",
    "        outputs = reduced_model(images)\n",
    "        _, predicted = torch.max(outputs.data, 1)\n",
    "        reduced_total += labels.size(0)\n",
    "        reduced_correct += (predicted == labels).sum().item()\n",
    "\n",
    "reduced_accuracy = 100 * reduced_correct / reduced_total\n",
    "print('Reduced Model - Test Accuracy: {:.2f} %'.format(reduced_accuracy))\n",
    "\n",
    "# Plotting\n",
    "params_original = sum(p.numel() for p in original_model.parameters() if p.requires_grad)\n",
    "params_reduced = sum(p.numel() for p in reduced_model.parameters() if p.requires_grad)\n",
    "percentage_drop = ((params_original - params_reduced) / params_original) * 100\n",
    "\n",
    "plt.figure(figsize=(8, 6))\n",
    "plt.plot([percentage_drop], [original_accuracy], 'bo', label='Original Model')\n",
    "plt.plot([percentage_drop], [reduced_accuracy], 'ro', label='Reduced Model')\n",
    "plt.xlabel('Percentage Drop in Parameters')\n",
    "plt.ylabel('Accuracy (%)')\n",
    "plt.title('Percentage Drop in Parameters vs Accuracy')\n",
    "plt.legend()\n",
    "plt.grid(True)\n",
    "plt.show()\n"
   ]
  }
 ],
 "metadata": {
  "kernelspec": {
   "display_name": "Python 3 (ipykernel)",
   "language": "python",
   "name": "python3"
  },
  "language_info": {
   "codemirror_mode": {
    "name": "ipython",
    "version": 3
   },
   "file_extension": ".py",
   "mimetype": "text/x-python",
   "name": "python",
   "nbconvert_exporter": "python",
   "pygments_lexer": "ipython3",
   "version": "3.11.8"
  }
 },
 "nbformat": 4,
 "nbformat_minor": 4
}
